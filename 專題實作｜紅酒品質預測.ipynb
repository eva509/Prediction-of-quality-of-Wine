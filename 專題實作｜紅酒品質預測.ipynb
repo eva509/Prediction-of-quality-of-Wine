{
  "nbformat": 4,
  "nbformat_minor": 0,
  "metadata": {
    "colab": {
      "provenance": [],
      "authorship_tag": "ABX9TyPZ+E7P5h95RvxmafZoeXxJ",
      "include_colab_link": true
    },
    "kernelspec": {
      "name": "python3",
      "display_name": "Python 3"
    },
    "language_info": {
      "name": "python"
    }
  },
  "cells": [
    {
      "cell_type": "markdown",
      "metadata": {
        "id": "view-in-github",
        "colab_type": "text"
      },
      "source": [
        "<a href=\"https://colab.research.google.com/github/hui509/Prediction-of-quality-of-Wine/blob/main/%E5%B0%88%E9%A1%8C%E5%AF%A6%E4%BD%9C%EF%BD%9C%E7%B4%85%E9%85%92%E5%93%81%E8%B3%AA%E9%A0%90%E6%B8%AC.ipynb\" target=\"_parent\"><img src=\"https://colab.research.google.com/assets/colab-badge.svg\" alt=\"Open In Colab\"/></a>"
      ]
    },
    {
      "cell_type": "markdown",
      "source": [
        "# **專題實作｜紅酒品質預測**\n",
        "\n",
        "# 目標：利用現有資料集訓練一個有效的模型，協助判斷紅酒品質好壞。"
      ],
      "metadata": {
        "id": "a6gkY4-QvfYX"
      }
    },
    {
      "cell_type": "markdown",
      "source": [
        "# **載入 `Red Wine Quality` 資料集**\n",
        "\n"
      ],
      "metadata": {
        "id": "RbftgqbHd-Dl"
      }
    },
    {
      "cell_type": "code",
      "source": [
        "import pandas as pd\n",
        "df = pd.read_csv('https://raw.githubusercontent.com/aniruddhachoudhury/Red-Wine-Quality/master/winequality-red.csv')\n",
        "df"
      ],
      "metadata": {
        "id": "aO8IY290cmB5"
      },
      "execution_count": null,
      "outputs": []
    },
    {
      "cell_type": "markdown",
      "source": [
        "# **資料概況**"
      ],
      "metadata": {
        "id": "wFrpTLZrhB1m"
      }
    },
    {
      "cell_type": "markdown",
      "source": [
        "**1. Red Wine Quality 各欄位定義**\n",
        "\n",
        "* fixed acidity : 非揮發性酸\n",
        "* volatile acidity : 揮發性酸\n",
        "* citric acid : 檸檬酸\n",
        "* residual sugar : 殘留糖分\n",
        "* chlorides : 氯化物\n",
        "* free sulfur dioxide : 游離二氧化硫\n",
        "* total sulfur dioxide : 總二氧化硫\n",
        "* density : 密度\n",
        "* pH : pH值\n",
        "* sulphates : 硫酸鹽\n",
        "* alcohol : 酒精濃度\n",
        "* qulity : 品質 (分數介於0 - 10)\n"
      ],
      "metadata": {
        "id": "kIr3UAp9hLlL"
      }
    },
    {
      "cell_type": "markdown",
      "source": [
        "**2. 觀察每個「特徵」欄位（除 quality 外）資料的分佈情況**\n",
        "\n",
        "* 品質越好的紅酒，檸檬酸(citric acid)、硫酸鹽(sulphates)越高。\n",
        "* 品質越好的紅酒，揮發性酸度(volatile acidity)、氯化物(chlorides)越少。\n",
        "* 密度(density)對紅酒品質不具有區別性，皆大約為1。\n",
        "* pH值對紅酒品質區別性也很小，大約落在3左右。\n",
        "\n",
        "\n"
      ],
      "metadata": {
        "id": "tGjg35_FrlW2"
      }
    },
    {
      "cell_type": "code",
      "source": [
        "import seaborn as sns\n",
        "import matplotlib.pyplot as plt\n",
        "# 創建一個3x4的圖\n",
        "fig, axes = plt.subplots(3, 4, figsize=(12, 8))\n",
        "\n",
        "# 將axes攤平為一維矩陣，以利後續遍歷\n",
        "axes = axes.flatten()\n",
        "\n",
        "# 定義資料欄位的索引\n",
        "column_index = 0\n",
        "\n",
        "# 長條圖呈現各特徵的分布\n",
        "for i in df.columns:\n",
        "  if i != 'quality':\n",
        "    sns.barplot(data=df, x='quality', y=i, palette='coolwarm', ax=axes[column_index])\n",
        "    axes[column_index].set_title(i)\n",
        "    column_index += 1\n",
        "\n",
        "# 刪除最後一個空白圖表\n",
        "axes[-1].remove()\n",
        "\n",
        "# 調整子圖之間的間距\n",
        "plt.tight_layout()\n",
        "\n",
        "# 輸出圖表\n",
        "plt.show()"
      ],
      "metadata": {
        "id": "YG8vDBa-hKb7"
      },
      "execution_count": null,
      "outputs": []
    },
    {
      "cell_type": "markdown",
      "source": [
        "**3. 觀察每個「標籤」欄位（quality）資料的分佈情況**\n",
        "\n",
        "* 資料中的 quality 介於3-8分之間。\n",
        "* 獲得5、6分 quality 的紅酒占多數，共有1319筆，呈現不平衡情況\n"
      ],
      "metadata": {
        "id": "7m37BGIHnh-4"
      }
    },
    {
      "cell_type": "code",
      "source": [
        "# 計算不同quality的筆數\n",
        "df['quality'].value_counts()"
      ],
      "metadata": {
        "id": "GfaCSB7orXdB"
      },
      "execution_count": null,
      "outputs": []
    },
    {
      "cell_type": "code",
      "source": [
        "# 計數圖呈現quality的分布\n",
        "sns.countplot(data=df, x='quality', palette='coolwarm')"
      ],
      "metadata": {
        "id": "ETprufqEnkr2"
      },
      "execution_count": null,
      "outputs": []
    },
    {
      "cell_type": "markdown",
      "source": [
        "**4. 觀察各特徵之間的關係**\n",
        "\n",
        "* Pearson 相關分析中，小於0.3為低相關，介於0.3~0.7為中等相關，大於0.7為高度相關\n",
        "* 酒精濃度(alcohol)與紅酒品質有(0.48)的相關性，有較高的正相關。\n",
        "* 揮發性酸度(volatile acidity)與紅酒品質有(-0.39)的相關性，有較高的負相關。\n",
        "\n"
      ],
      "metadata": {
        "id": "1BMyOzgTboYv"
      }
    },
    {
      "cell_type": "code",
      "source": [
        "# 計算相關性\n",
        "cor = df.corr()\n",
        "\n",
        "# 使用seaborn和matplotlib，視覺化呈現\n",
        "import seaborn as sns\n",
        "import matplotlib.pyplot as plt\n",
        "\n",
        "plt.figure(figsize=(10,8))\n",
        "sns.heatmap(cor,annot=True,linewidth=0.5,cmap='coolwarm')\n",
        "plt.title('Correlation Matrix of Red Wine Quality')\n",
        "plt.show()"
      ],
      "metadata": {
        "id": "HIQlMZ13gXOf"
      },
      "execution_count": null,
      "outputs": []
    },
    {
      "cell_type": "markdown",
      "source": [
        "# **資料處理**"
      ],
      "metadata": {
        "id": "IpXtRmsVdTHO"
      }
    },
    {
      "cell_type": "markdown",
      "source": [
        "**1. 資料清理與型態轉換**\n",
        "\n",
        "* 資料中沒有缺失值，無須進行填補。\n",
        "* 資料中除quality欄位為int型態，其餘為float型態，皆可投入模型。\n",
        "\n"
      ],
      "metadata": {
        "id": "vvhkGazLwEFs"
      }
    },
    {
      "cell_type": "code",
      "source": [
        "# 確認是否有缺失值\n",
        "df.isnull().sum()"
      ],
      "metadata": {
        "id": "23wFLhQqd9lc"
      },
      "execution_count": null,
      "outputs": []
    },
    {
      "cell_type": "code",
      "source": [
        "# 確認資料型態是否符合模型需求\n",
        "df.info()"
      ],
      "metadata": {
        "id": "8VPP66TOewRN"
      },
      "execution_count": null,
      "outputs": []
    },
    {
      "cell_type": "markdown",
      "source": [
        "**2. 處理標籤欄位(quality)**\n",
        "\n",
        "* 原始quality介於3-8分，依據分數無法直接判斷「好或壞」，且存在資料不平衡。\n",
        "* 二元分類quality並進行型態轉換，區分為good(1)、bad(0)，結果依舊存在資料不平衡。"
      ],
      "metadata": {
        "id": "VdNaP1CRtf1Q"
      }
    },
    {
      "cell_type": "code",
      "source": [
        "# 以6.5分為基準，將quality分為good和bad\n",
        "bins = (0, 6.5, 10)\n",
        "group_names = ['bad', 'good']\n",
        "df['quality'] = pd.cut(df['quality'], bins = bins, labels = group_names)"
      ],
      "metadata": {
        "id": "wITHs6RKuQya"
      },
      "execution_count": 47,
      "outputs": []
    },
    {
      "cell_type": "code",
      "source": [
        "# 型態轉換：quality原為有序數值，故使用Labelencoder將good轉為1，bad轉為0\n",
        "from sklearn.preprocessing import LabelEncoder\n",
        "label_quality = LabelEncoder()\n",
        "df['quality'] = label_quality.fit_transform(df['quality'])"
      ],
      "metadata": {
        "id": "V9RaV2_3zZaq"
      },
      "execution_count": 48,
      "outputs": []
    },
    {
      "cell_type": "code",
      "source": [
        "# 計數圖呈現分類後的quality分布\n",
        "sns.countplot(data=df, x='quality', palette='coolwarm')"
      ],
      "metadata": {
        "id": "WCjwQE7wzxpi"
      },
      "execution_count": null,
      "outputs": []
    },
    {
      "cell_type": "markdown",
      "source": [
        "**3. 特徵工程**\n",
        "\n",
        "* 以 Standardize 正規化調整 quality 欄位資料差距大的情況\n"
      ],
      "metadata": {
        "id": "LnY4bBZBxpdV"
      }
    },
    {
      "cell_type": "code",
      "source": [
        "# 資料正規化 - Standardize\n",
        "from sklearn.preprocessing import StandardScaler\n",
        "\n",
        "scaler = StandardScaler()\n",
        "feature_columns = df.columns.difference([\"quality\"])\n",
        "df[feature_columns] = scaler.fit_transform(df[feature_columns])\n"
      ],
      "metadata": {
        "id": "5rnNAP9nJgJc"
      },
      "execution_count": 50,
      "outputs": []
    },
    {
      "cell_type": "markdown",
      "source": [
        "# **模型分析**"
      ],
      "metadata": {
        "id": "b0Pvj5s1cAXJ"
      }
    },
    {
      "cell_type": "markdown",
      "source": [
        "**1. 使用少數類過採樣技術(SMOTE)方法，處理資料不平衡問題**\n",
        "\n",
        "**2. 採用 scikit-learn 五種基本模型進行分析與比較**\n",
        "\n",
        "* 邏輯回歸 Logistic Regression\n",
        "* 支持向量機 Support Vector Machines\n",
        "* 決策樹 Decision Tree Classifier\n",
        "* 隨機森林 Random Forest Classifier\n",
        "* K-近鄰演算法 K Nearest Neighbor\n"
      ],
      "metadata": {
        "id": "s4aicB7Ggtdn"
      }
    },
    {
      "cell_type": "code",
      "source": [
        "# 載入模型\n",
        "from sklearn.model_selection import train_test_split\n",
        "from sklearn.ensemble import RandomForestClassifier\n",
        "from sklearn.linear_model import LogisticRegression\n",
        "from sklearn.svm import SVC\n",
        "from sklearn.tree import DecisionTreeClassifier\n",
        "from sklearn.neighbors import KNeighborsClassifier\n",
        "from sklearn.model_selection import cross_val_score"
      ],
      "metadata": {
        "id": "xAyAFNzyiW4c"
      },
      "execution_count": 51,
      "outputs": []
    },
    {
      "cell_type": "code",
      "source": [
        "# 拆分訓練集與測試集\n",
        "X = df.drop('quality', axis = 1)\n",
        "y = df['quality']\n",
        "X_train, X_test, y_train, y_test = train_test_split(X, y, test_size = 0.2, random_state = 42)\n",
        "X_train, X_val, y_train, y_val = train_test_split(X_train, y_train, test_size = 0.1, random_state = 43, stratify=y_train)\n",
        "\n",
        "# 使用SMOTE，處理資料不平衡問題\n",
        "from imblearn.over_sampling import SMOTE\n",
        "smote = SMOTE(random_state=42)\n",
        "X_train_resampled, y_train_resampled = smote.fit_resample(X_train, y_train)"
      ],
      "metadata": {
        "id": "0APc2CI8PJ-m"
      },
      "execution_count": 52,
      "outputs": []
    },
    {
      "cell_type": "code",
      "source": [
        "# Scikit-learn 五種基本模型分析\n",
        "models = {\n",
        "    'Logistic Regression':LogisticRegression(random_state=0,max_iter=3000),\n",
        "    'SVC':SVC(),\n",
        "    'Decision Tree Classifer':DecisionTreeClassifier(),\n",
        "    'Random Forest Classifer':RandomForestClassifier(),\n",
        "    'KNN':KNeighborsClassifier()\n",
        "      }\n",
        "scores = [ ]\n",
        "for model_name,model in models.items():\n",
        "  score = cross_val_score(model,X_train_resampled,y_train_resampled.values.ravel(),cv=5,scoring='accuracy').mean()\n",
        "  scores.append({'model':model_name, 'accuracy':score})"
      ],
      "metadata": {
        "id": "bhWsF7QOhlpr"
      },
      "execution_count": 53,
      "outputs": []
    },
    {
      "cell_type": "markdown",
      "source": [
        "# **模型優化**"
      ],
      "metadata": {
        "id": "jFJKGxKro3FF"
      }
    },
    {
      "cell_type": "markdown",
      "source": [
        "**1. 使用 GridSearchCV( ) 調整參數**\n",
        "\n",
        "\n"
      ],
      "metadata": {
        "id": "4IeGISE1o-aU"
      }
    },
    {
      "cell_type": "code",
      "source": [
        "# 超參數調整\n",
        "from sklearn.model_selection import GridSearchCV\n",
        "model_params = {\n",
        "  'Logistic Regression(Opt)':{\n",
        "      'model':LogisticRegression(),\n",
        "      'params':{'C': [0.01, 0.1, 1, 10],'solver': ['liblinear','lbfgs']}\n",
        "              },\n",
        "  'SVC(Opt)':{\n",
        "      'model':SVC(),\n",
        "      'params':{'C':[0.1,1,10],'kernel':['rbf'],'gamma':[0.05, 0.1]}\n",
        "      },\n",
        "  'Decision Tree Classifier(Opt)':{\n",
        "      'model':DecisionTreeClassifier(),\n",
        "      'params':{'criterion': ['gini', 'entropy'],'max_depth': [4, 6, 8],\n",
        "            'min_samples_split': [2, 5, 10],'min_samples_leaf': [1, 2, 4]}\n",
        "          },\n",
        "  'Random Forest Classifier(Opt)':{\n",
        "      'model':RandomForestClassifier(),\n",
        "      'params':{'n_estimators': [10, 50],'max_depth': [4, 6, 8],'min_samples_split': [2, 5, 10],\n",
        "           'min_samples_leaf': [1, 2, 4],'max_features': ['auto', 'sqrt']}\n",
        "          },\n",
        "  'KNN(Opt)':{\n",
        "      'model':KNeighborsClassifier(),\n",
        "      'params':{'n_neighbors': [3, 5, 7, 9],'weights': ['uniform', 'distance']}\n",
        "      }\n",
        "  }\n",
        "\n",
        "scores_opt = []\n",
        "for model_name, mp in model_params.items():\n",
        "  clf = GridSearchCV(mp['model'],mp['params'],cv=5)\n",
        "  score = cross_val_score(mp['model'],X_train_resampled,y_train_resampled.values.ravel(),cv=5,scoring='accuracy').mean()\n",
        "  scores_opt.append({'model':model_name,'accuracy':score})"
      ],
      "metadata": {
        "id": "TVbNqrmso_dH"
      },
      "execution_count": 54,
      "outputs": []
    },
    {
      "cell_type": "code",
      "source": [
        "# 比較超參數調整前後結果\n",
        "combined = scores + scores_opt\n",
        "df = pd.DataFrame(combined)\n",
        "df.sort_values(by='accuracy',ascending=False)"
      ],
      "metadata": {
        "colab": {
          "base_uri": "https://localhost:8080/",
          "height": 363
        },
        "id": "XZoY9uACqXte",
        "outputId": "2335965e-15a1-46ef-8c67-bda1036ea1b2"
      },
      "execution_count": 55,
      "outputs": [
        {
          "output_type": "execute_result",
          "data": {
            "text/plain": [
              "                           model  accuracy\n",
              "8  Random Forest Classifier(Opt)  0.942891\n",
              "3        Random Forest Classifer  0.942886\n",
              "2        Decision Tree Classifer  0.897805\n",
              "7  Decision Tree Classifier(Opt)  0.896301\n",
              "4                            KNN  0.879763\n",
              "9                       KNN(Opt)  0.879763\n",
              "1                            SVC  0.866736\n",
              "6                       SVC(Opt)  0.866736\n",
              "0            Logistic Regression  0.804610\n",
              "5       Logistic Regression(Opt)  0.804610"
            ],
            "text/html": [
              "\n",
              "  <div id=\"df-25e1556e-cfb8-4713-b544-6597a02d59aa\" class=\"colab-df-container\">\n",
              "    <div>\n",
              "<style scoped>\n",
              "    .dataframe tbody tr th:only-of-type {\n",
              "        vertical-align: middle;\n",
              "    }\n",
              "\n",
              "    .dataframe tbody tr th {\n",
              "        vertical-align: top;\n",
              "    }\n",
              "\n",
              "    .dataframe thead th {\n",
              "        text-align: right;\n",
              "    }\n",
              "</style>\n",
              "<table border=\"1\" class=\"dataframe\">\n",
              "  <thead>\n",
              "    <tr style=\"text-align: right;\">\n",
              "      <th></th>\n",
              "      <th>model</th>\n",
              "      <th>accuracy</th>\n",
              "    </tr>\n",
              "  </thead>\n",
              "  <tbody>\n",
              "    <tr>\n",
              "      <th>8</th>\n",
              "      <td>Random Forest Classifier(Opt)</td>\n",
              "      <td>0.942891</td>\n",
              "    </tr>\n",
              "    <tr>\n",
              "      <th>3</th>\n",
              "      <td>Random Forest Classifer</td>\n",
              "      <td>0.942886</td>\n",
              "    </tr>\n",
              "    <tr>\n",
              "      <th>2</th>\n",
              "      <td>Decision Tree Classifer</td>\n",
              "      <td>0.897805</td>\n",
              "    </tr>\n",
              "    <tr>\n",
              "      <th>7</th>\n",
              "      <td>Decision Tree Classifier(Opt)</td>\n",
              "      <td>0.896301</td>\n",
              "    </tr>\n",
              "    <tr>\n",
              "      <th>4</th>\n",
              "      <td>KNN</td>\n",
              "      <td>0.879763</td>\n",
              "    </tr>\n",
              "    <tr>\n",
              "      <th>9</th>\n",
              "      <td>KNN(Opt)</td>\n",
              "      <td>0.879763</td>\n",
              "    </tr>\n",
              "    <tr>\n",
              "      <th>1</th>\n",
              "      <td>SVC</td>\n",
              "      <td>0.866736</td>\n",
              "    </tr>\n",
              "    <tr>\n",
              "      <th>6</th>\n",
              "      <td>SVC(Opt)</td>\n",
              "      <td>0.866736</td>\n",
              "    </tr>\n",
              "    <tr>\n",
              "      <th>0</th>\n",
              "      <td>Logistic Regression</td>\n",
              "      <td>0.804610</td>\n",
              "    </tr>\n",
              "    <tr>\n",
              "      <th>5</th>\n",
              "      <td>Logistic Regression(Opt)</td>\n",
              "      <td>0.804610</td>\n",
              "    </tr>\n",
              "  </tbody>\n",
              "</table>\n",
              "</div>\n",
              "    <div class=\"colab-df-buttons\">\n",
              "\n",
              "  <div class=\"colab-df-container\">\n",
              "    <button class=\"colab-df-convert\" onclick=\"convertToInteractive('df-25e1556e-cfb8-4713-b544-6597a02d59aa')\"\n",
              "            title=\"Convert this dataframe to an interactive table.\"\n",
              "            style=\"display:none;\">\n",
              "\n",
              "  <svg xmlns=\"http://www.w3.org/2000/svg\" height=\"24px\" viewBox=\"0 -960 960 960\">\n",
              "    <path d=\"M120-120v-720h720v720H120Zm60-500h600v-160H180v160Zm220 220h160v-160H400v160Zm0 220h160v-160H400v160ZM180-400h160v-160H180v160Zm440 0h160v-160H620v160ZM180-180h160v-160H180v160Zm440 0h160v-160H620v160Z\"/>\n",
              "  </svg>\n",
              "    </button>\n",
              "\n",
              "  <style>\n",
              "    .colab-df-container {\n",
              "      display:flex;\n",
              "      gap: 12px;\n",
              "    }\n",
              "\n",
              "    .colab-df-convert {\n",
              "      background-color: #E8F0FE;\n",
              "      border: none;\n",
              "      border-radius: 50%;\n",
              "      cursor: pointer;\n",
              "      display: none;\n",
              "      fill: #1967D2;\n",
              "      height: 32px;\n",
              "      padding: 0 0 0 0;\n",
              "      width: 32px;\n",
              "    }\n",
              "\n",
              "    .colab-df-convert:hover {\n",
              "      background-color: #E2EBFA;\n",
              "      box-shadow: 0px 1px 2px rgba(60, 64, 67, 0.3), 0px 1px 3px 1px rgba(60, 64, 67, 0.15);\n",
              "      fill: #174EA6;\n",
              "    }\n",
              "\n",
              "    .colab-df-buttons div {\n",
              "      margin-bottom: 4px;\n",
              "    }\n",
              "\n",
              "    [theme=dark] .colab-df-convert {\n",
              "      background-color: #3B4455;\n",
              "      fill: #D2E3FC;\n",
              "    }\n",
              "\n",
              "    [theme=dark] .colab-df-convert:hover {\n",
              "      background-color: #434B5C;\n",
              "      box-shadow: 0px 1px 3px 1px rgba(0, 0, 0, 0.15);\n",
              "      filter: drop-shadow(0px 1px 2px rgba(0, 0, 0, 0.3));\n",
              "      fill: #FFFFFF;\n",
              "    }\n",
              "  </style>\n",
              "\n",
              "    <script>\n",
              "      const buttonEl =\n",
              "        document.querySelector('#df-25e1556e-cfb8-4713-b544-6597a02d59aa button.colab-df-convert');\n",
              "      buttonEl.style.display =\n",
              "        google.colab.kernel.accessAllowed ? 'block' : 'none';\n",
              "\n",
              "      async function convertToInteractive(key) {\n",
              "        const element = document.querySelector('#df-25e1556e-cfb8-4713-b544-6597a02d59aa');\n",
              "        const dataTable =\n",
              "          await google.colab.kernel.invokeFunction('convertToInteractive',\n",
              "                                                    [key], {});\n",
              "        if (!dataTable) return;\n",
              "\n",
              "        const docLinkHtml = 'Like what you see? Visit the ' +\n",
              "          '<a target=\"_blank\" href=https://colab.research.google.com/notebooks/data_table.ipynb>data table notebook</a>'\n",
              "          + ' to learn more about interactive tables.';\n",
              "        element.innerHTML = '';\n",
              "        dataTable['output_type'] = 'display_data';\n",
              "        await google.colab.output.renderOutput(dataTable, element);\n",
              "        const docLink = document.createElement('div');\n",
              "        docLink.innerHTML = docLinkHtml;\n",
              "        element.appendChild(docLink);\n",
              "      }\n",
              "    </script>\n",
              "  </div>\n",
              "\n",
              "\n",
              "<div id=\"df-141f77ff-c980-446e-b735-4b0de2ede10a\">\n",
              "  <button class=\"colab-df-quickchart\" onclick=\"quickchart('df-141f77ff-c980-446e-b735-4b0de2ede10a')\"\n",
              "            title=\"Suggest charts.\"\n",
              "            style=\"display:none;\">\n",
              "\n",
              "<svg xmlns=\"http://www.w3.org/2000/svg\" height=\"24px\"viewBox=\"0 0 24 24\"\n",
              "     width=\"24px\">\n",
              "    <g>\n",
              "        <path d=\"M19 3H5c-1.1 0-2 .9-2 2v14c0 1.1.9 2 2 2h14c1.1 0 2-.9 2-2V5c0-1.1-.9-2-2-2zM9 17H7v-7h2v7zm4 0h-2V7h2v10zm4 0h-2v-4h2v4z\"/>\n",
              "    </g>\n",
              "</svg>\n",
              "  </button>\n",
              "\n",
              "<style>\n",
              "  .colab-df-quickchart {\n",
              "      --bg-color: #E8F0FE;\n",
              "      --fill-color: #1967D2;\n",
              "      --hover-bg-color: #E2EBFA;\n",
              "      --hover-fill-color: #174EA6;\n",
              "      --disabled-fill-color: #AAA;\n",
              "      --disabled-bg-color: #DDD;\n",
              "  }\n",
              "\n",
              "  [theme=dark] .colab-df-quickchart {\n",
              "      --bg-color: #3B4455;\n",
              "      --fill-color: #D2E3FC;\n",
              "      --hover-bg-color: #434B5C;\n",
              "      --hover-fill-color: #FFFFFF;\n",
              "      --disabled-bg-color: #3B4455;\n",
              "      --disabled-fill-color: #666;\n",
              "  }\n",
              "\n",
              "  .colab-df-quickchart {\n",
              "    background-color: var(--bg-color);\n",
              "    border: none;\n",
              "    border-radius: 50%;\n",
              "    cursor: pointer;\n",
              "    display: none;\n",
              "    fill: var(--fill-color);\n",
              "    height: 32px;\n",
              "    padding: 0;\n",
              "    width: 32px;\n",
              "  }\n",
              "\n",
              "  .colab-df-quickchart:hover {\n",
              "    background-color: var(--hover-bg-color);\n",
              "    box-shadow: 0 1px 2px rgba(60, 64, 67, 0.3), 0 1px 3px 1px rgba(60, 64, 67, 0.15);\n",
              "    fill: var(--button-hover-fill-color);\n",
              "  }\n",
              "\n",
              "  .colab-df-quickchart-complete:disabled,\n",
              "  .colab-df-quickchart-complete:disabled:hover {\n",
              "    background-color: var(--disabled-bg-color);\n",
              "    fill: var(--disabled-fill-color);\n",
              "    box-shadow: none;\n",
              "  }\n",
              "\n",
              "  .colab-df-spinner {\n",
              "    border: 2px solid var(--fill-color);\n",
              "    border-color: transparent;\n",
              "    border-bottom-color: var(--fill-color);\n",
              "    animation:\n",
              "      spin 1s steps(1) infinite;\n",
              "  }\n",
              "\n",
              "  @keyframes spin {\n",
              "    0% {\n",
              "      border-color: transparent;\n",
              "      border-bottom-color: var(--fill-color);\n",
              "      border-left-color: var(--fill-color);\n",
              "    }\n",
              "    20% {\n",
              "      border-color: transparent;\n",
              "      border-left-color: var(--fill-color);\n",
              "      border-top-color: var(--fill-color);\n",
              "    }\n",
              "    30% {\n",
              "      border-color: transparent;\n",
              "      border-left-color: var(--fill-color);\n",
              "      border-top-color: var(--fill-color);\n",
              "      border-right-color: var(--fill-color);\n",
              "    }\n",
              "    40% {\n",
              "      border-color: transparent;\n",
              "      border-right-color: var(--fill-color);\n",
              "      border-top-color: var(--fill-color);\n",
              "    }\n",
              "    60% {\n",
              "      border-color: transparent;\n",
              "      border-right-color: var(--fill-color);\n",
              "    }\n",
              "    80% {\n",
              "      border-color: transparent;\n",
              "      border-right-color: var(--fill-color);\n",
              "      border-bottom-color: var(--fill-color);\n",
              "    }\n",
              "    90% {\n",
              "      border-color: transparent;\n",
              "      border-bottom-color: var(--fill-color);\n",
              "    }\n",
              "  }\n",
              "</style>\n",
              "\n",
              "  <script>\n",
              "    async function quickchart(key) {\n",
              "      const quickchartButtonEl =\n",
              "        document.querySelector('#' + key + ' button');\n",
              "      quickchartButtonEl.disabled = true;  // To prevent multiple clicks.\n",
              "      quickchartButtonEl.classList.add('colab-df-spinner');\n",
              "      try {\n",
              "        const charts = await google.colab.kernel.invokeFunction(\n",
              "            'suggestCharts', [key], {});\n",
              "      } catch (error) {\n",
              "        console.error('Error during call to suggestCharts:', error);\n",
              "      }\n",
              "      quickchartButtonEl.classList.remove('colab-df-spinner');\n",
              "      quickchartButtonEl.classList.add('colab-df-quickchart-complete');\n",
              "    }\n",
              "    (() => {\n",
              "      let quickchartButtonEl =\n",
              "        document.querySelector('#df-141f77ff-c980-446e-b735-4b0de2ede10a button');\n",
              "      quickchartButtonEl.style.display =\n",
              "        google.colab.kernel.accessAllowed ? 'block' : 'none';\n",
              "    })();\n",
              "  </script>\n",
              "</div>\n",
              "    </div>\n",
              "  </div>\n"
            ]
          },
          "metadata": {},
          "execution_count": 55
        }
      ]
    },
    {
      "cell_type": "markdown",
      "source": [
        "**2. 使用PyTorch模型進行分析**"
      ],
      "metadata": {
        "id": "uMlGAeout-Du"
      }
    },
    {
      "cell_type": "code",
      "source": [
        "# PyTorch\n",
        "import torch\n",
        "import numpy as np\n",
        "\n",
        "# 創建模型架構\n",
        "class Model(torch.nn.Module):\n",
        "    def __init__(self, input_size, output_size):\n",
        "        super(Model, self).__init__()\n",
        "        self.hidden1 = torch.nn.Linear(input_size, 64)\n",
        "        self.hidden2 = torch.nn.Linear(64, 32)\n",
        "        self.predict = torch.nn.Linear(32, output_size)\n",
        "\n",
        "    def forward(self, x):\n",
        "        output1 = torch.relu(self.hidden1(x))\n",
        "        output2 = torch.relu(self.hidden2(output1))\n",
        "        output = torch.sigmoid(self.predict(output2))\n",
        "        return output\n",
        "\n",
        "# 模型、優化器初始化\n",
        "model = Model(X_test.shape[1], 1)\n",
        "optimizer = torch.optim.SGD(model.parameters(), lr=0.05, momentum=0.0) # 模型參數優化器\n",
        "loss_func = torch.nn.BCELoss()\n",
        "\n",
        "\n",
        "# 資料格式轉成torch專用格式\n",
        "x_data = torch.tensor(X_train.values, dtype=torch.float32)\n",
        "y_data = torch.tensor(np.expand_dims(y_train, axis=1), dtype=torch.float32)\n",
        "\n",
        "x_val_data = torch.tensor(X_val.values, dtype=torch.float32)\n",
        "y_val_data = torch.tensor(np.expand_dims(y_val, axis=1), dtype=torch.float32)\n",
        "\n",
        "x_test_data = torch.tensor(X_test.values, dtype=torch.float32)\n",
        "y_test_data = torch.tensor(np.expand_dims(y_test, axis=1), dtype=torch.float32)\n",
        "\n",
        "batch_size = 32\n",
        "num_epochs = 200\n",
        "\n",
        "training_losses = []\n",
        "val_losses = []\n",
        "\n",
        "for epoch in range(num_epochs):\n",
        "    for i in range(0, len(x_data), batch_size):\n",
        "        prediction = model(x_data[i:i+batch_size])\n",
        "        loss = loss_func(prediction, y_data[i:i+batch_size])\n",
        "\n",
        "        optimizer.zero_grad()\n",
        "        loss.backward()\n",
        "        optimizer.step()\n",
        "\n",
        "    loss = loss_func(model(x_data), y_data)\n",
        "    training_losses.append(float(loss))\n",
        "\n",
        "    y_pred = model(x_val_data)\n",
        "    val_loss = loss_func(y_pred, y_val_data)\n",
        "    print(\"training loss:{}, val loss:{}, val acc:{}\".format(float(loss), val_loss, accuracy_score(y_val_data, np.where(y_pred >= 0.5, 1, 0))))\n",
        "\n",
        "    val_losses.append(float(val_loss))"
      ],
      "metadata": {
        "colab": {
          "base_uri": "https://localhost:8080/"
        },
        "id": "i0XD4BBTvIoy",
        "outputId": "d5f88089-5aad-471f-aaf5-97afb7d0e85d"
      },
      "execution_count": 56,
      "outputs": [
        {
          "output_type": "stream",
          "name": "stdout",
          "text": [
            "training loss:0.41587892174720764, val loss:0.42474183440208435, val acc:0.8671875\n",
            "training loss:0.3560630977153778, val loss:0.3740205764770508, val acc:0.8671875\n",
            "training loss:0.32782530784606934, val loss:0.35182178020477295, val acc:0.8671875\n",
            "training loss:0.30868738889694214, val loss:0.3377566635608673, val acc:0.8671875\n",
            "training loss:0.2953042685985565, val loss:0.32889583706855774, val acc:0.8671875\n",
            "training loss:0.28596031665802, val loss:0.32398465275764465, val acc:0.8671875\n",
            "training loss:0.27941519021987915, val loss:0.3222762942314148, val acc:0.875\n",
            "training loss:0.2746477425098419, val loss:0.321912944316864, val acc:0.8828125\n",
            "training loss:0.2709384560585022, val loss:0.32208067178726196, val acc:0.8671875\n",
            "training loss:0.26801028847694397, val loss:0.3228211998939514, val acc:0.8671875\n",
            "training loss:0.2656293213367462, val loss:0.3237479329109192, val acc:0.8515625\n",
            "training loss:0.2635529637336731, val loss:0.32467296719551086, val acc:0.84375\n",
            "training loss:0.26168519258499146, val loss:0.32527101039886475, val acc:0.84375\n",
            "training loss:0.2599872946739197, val loss:0.325930655002594, val acc:0.84375\n",
            "training loss:0.25843027234077454, val loss:0.3265192210674286, val acc:0.84375\n",
            "training loss:0.2569442391395569, val loss:0.3269801139831543, val acc:0.84375\n",
            "training loss:0.25557562708854675, val loss:0.3275303244590759, val acc:0.84375\n",
            "training loss:0.25426533818244934, val loss:0.32787856459617615, val acc:0.8515625\n",
            "training loss:0.2529880106449127, val loss:0.3284437954425812, val acc:0.8515625\n",
            "training loss:0.2517997920513153, val loss:0.32901421189308167, val acc:0.8515625\n",
            "training loss:0.2507137656211853, val loss:0.329669326543808, val acc:0.8515625\n",
            "training loss:0.2496701180934906, val loss:0.3299981653690338, val acc:0.8515625\n",
            "training loss:0.2486274242401123, val loss:0.33042314648628235, val acc:0.8515625\n",
            "training loss:0.24759428203105927, val loss:0.3308638334274292, val acc:0.859375\n",
            "training loss:0.2466103732585907, val loss:0.33097848296165466, val acc:0.859375\n",
            "training loss:0.24562864005565643, val loss:0.33128923177719116, val acc:0.859375\n",
            "training loss:0.2446572482585907, val loss:0.3311411440372467, val acc:0.859375\n",
            "training loss:0.24369779229164124, val loss:0.3314459025859833, val acc:0.859375\n",
            "training loss:0.2427714467048645, val loss:0.3316512703895569, val acc:0.859375\n",
            "training loss:0.2418551743030548, val loss:0.33167827129364014, val acc:0.859375\n",
            "training loss:0.24095205962657928, val loss:0.33167311549186707, val acc:0.859375\n",
            "training loss:0.24003541469573975, val loss:0.33211129903793335, val acc:0.859375\n",
            "training loss:0.23912714421749115, val loss:0.33259978890419006, val acc:0.859375\n",
            "training loss:0.23821181058883667, val loss:0.333209753036499, val acc:0.859375\n",
            "training loss:0.2373136281967163, val loss:0.33345267176628113, val acc:0.8515625\n",
            "training loss:0.23641718924045563, val loss:0.3344633877277374, val acc:0.8515625\n",
            "training loss:0.235533207654953, val loss:0.3343620002269745, val acc:0.8515625\n",
            "training loss:0.23462699353694916, val loss:0.33517906069755554, val acc:0.8515625\n",
            "training loss:0.23377472162246704, val loss:0.33563321828842163, val acc:0.8515625\n",
            "training loss:0.23291373252868652, val loss:0.3367142379283905, val acc:0.8515625\n",
            "training loss:0.23207427561283112, val loss:0.3369234502315521, val acc:0.8515625\n",
            "training loss:0.23123307526111603, val loss:0.3378552198410034, val acc:0.8515625\n",
            "training loss:0.23037905991077423, val loss:0.33780959248542786, val acc:0.8515625\n",
            "training loss:0.22951066493988037, val loss:0.33890941739082336, val acc:0.8515625\n",
            "training loss:0.22864845395088196, val loss:0.33952638506889343, val acc:0.8515625\n",
            "training loss:0.22779569029808044, val loss:0.3401479423046112, val acc:0.8515625\n",
            "training loss:0.22699181735515594, val loss:0.34169259667396545, val acc:0.8515625\n",
            "training loss:0.2260686457157135, val loss:0.3423042893409729, val acc:0.8515625\n",
            "training loss:0.22517332434654236, val loss:0.34369757771492004, val acc:0.8515625\n",
            "training loss:0.22429364919662476, val loss:0.3446561396121979, val acc:0.8515625\n",
            "training loss:0.22339174151420593, val loss:0.3461122214794159, val acc:0.8515625\n",
            "training loss:0.222486212849617, val loss:0.3467938005924225, val acc:0.8515625\n",
            "training loss:0.22157537937164307, val loss:0.3476429581642151, val acc:0.8515625\n",
            "training loss:0.2206241637468338, val loss:0.34836506843566895, val acc:0.8515625\n",
            "training loss:0.2196819931268692, val loss:0.3495084345340729, val acc:0.8515625\n",
            "training loss:0.21878129243850708, val loss:0.35021576285362244, val acc:0.8515625\n",
            "training loss:0.217831090092659, val loss:0.35166704654693604, val acc:0.8515625\n",
            "training loss:0.21690502762794495, val loss:0.35283362865448, val acc:0.8515625\n",
            "training loss:0.21608349680900574, val loss:0.3547481596469879, val acc:0.8515625\n",
            "training loss:0.21513736248016357, val loss:0.35587334632873535, val acc:0.8515625\n",
            "training loss:0.21426141262054443, val loss:0.35726720094680786, val acc:0.8515625\n",
            "training loss:0.21334190666675568, val loss:0.3585347831249237, val acc:0.8515625\n",
            "training loss:0.21243993937969208, val loss:0.360717236995697, val acc:0.8515625\n",
            "training loss:0.21148326992988586, val loss:0.3606683015823364, val acc:0.8515625\n",
            "training loss:0.21060258150100708, val loss:0.3621251881122589, val acc:0.8515625\n",
            "training loss:0.20966771245002747, val loss:0.36395323276519775, val acc:0.8515625\n",
            "training loss:0.20877836644649506, val loss:0.36420390009880066, val acc:0.8515625\n",
            "training loss:0.20787812769412994, val loss:0.365119993686676, val acc:0.8515625\n",
            "training loss:0.20704929530620575, val loss:0.36652541160583496, val acc:0.8515625\n",
            "training loss:0.20612818002700806, val loss:0.36759456992149353, val acc:0.8515625\n",
            "training loss:0.20519237220287323, val loss:0.368028849363327, val acc:0.8515625\n",
            "training loss:0.20433810353279114, val loss:0.37061595916748047, val acc:0.8515625\n",
            "training loss:0.20335334539413452, val loss:0.3705271780490875, val acc:0.8515625\n",
            "training loss:0.20244908332824707, val loss:0.37133872509002686, val acc:0.8515625\n",
            "training loss:0.20168958604335785, val loss:0.37318986654281616, val acc:0.8515625\n",
            "training loss:0.20067961513996124, val loss:0.37387534976005554, val acc:0.8515625\n",
            "training loss:0.19983503222465515, val loss:0.3752616047859192, val acc:0.8515625\n",
            "training loss:0.19889739155769348, val loss:0.37746238708496094, val acc:0.84375\n",
            "training loss:0.1979803889989853, val loss:0.37869924306869507, val acc:0.84375\n",
            "training loss:0.19723574817180634, val loss:0.37986451387405396, val acc:0.8515625\n",
            "training loss:0.19617833197116852, val loss:0.3819301426410675, val acc:0.8515625\n",
            "training loss:0.19543610513210297, val loss:0.3832288682460785, val acc:0.859375\n",
            "training loss:0.19438068568706512, val loss:0.3853287398815155, val acc:0.859375\n",
            "training loss:0.1936393678188324, val loss:0.38607457280158997, val acc:0.859375\n",
            "training loss:0.19273433089256287, val loss:0.3881247937679291, val acc:0.8515625\n",
            "training loss:0.1918693482875824, val loss:0.3903166949748993, val acc:0.8515625\n",
            "training loss:0.1911173015832901, val loss:0.39164111018180847, val acc:0.8515625\n",
            "training loss:0.1902477890253067, val loss:0.39375197887420654, val acc:0.8515625\n",
            "training loss:0.18937690556049347, val loss:0.39533770084381104, val acc:0.8515625\n",
            "training loss:0.1886703372001648, val loss:0.3972858786582947, val acc:0.84375\n",
            "training loss:0.18773730099201202, val loss:0.3984929621219635, val acc:0.84375\n",
            "training loss:0.187154158949852, val loss:0.4015868306159973, val acc:0.84375\n",
            "training loss:0.1860773265361786, val loss:0.40055522322654724, val acc:0.84375\n",
            "training loss:0.18551833927631378, val loss:0.4031727910041809, val acc:0.84375\n",
            "training loss:0.18468496203422546, val loss:0.4051920771598816, val acc:0.84375\n",
            "training loss:0.1838841289281845, val loss:0.40478894114494324, val acc:0.84375\n",
            "training loss:0.1831488162279129, val loss:0.4077567160129547, val acc:0.84375\n",
            "training loss:0.18246492743492126, val loss:0.4080524146556854, val acc:0.84375\n",
            "training loss:0.18153494596481323, val loss:0.4099216163158417, val acc:0.84375\n",
            "training loss:0.18074430525302887, val loss:0.4121556878089905, val acc:0.84375\n",
            "training loss:0.1798415631055832, val loss:0.4112001359462738, val acc:0.84375\n",
            "training loss:0.1790332943201065, val loss:0.4125995934009552, val acc:0.84375\n",
            "training loss:0.178214430809021, val loss:0.4147791862487793, val acc:0.84375\n",
            "training loss:0.17754490673542023, val loss:0.4156080484390259, val acc:0.84375\n",
            "training loss:0.17640666663646698, val loss:0.4159131348133087, val acc:0.84375\n",
            "training loss:0.17576104402542114, val loss:0.4190771281719208, val acc:0.84375\n",
            "training loss:0.1749289333820343, val loss:0.41831451654434204, val acc:0.84375\n",
            "training loss:0.17425687611103058, val loss:0.4228658676147461, val acc:0.8359375\n",
            "training loss:0.17360293865203857, val loss:0.4233401119709015, val acc:0.84375\n",
            "training loss:0.17262986302375793, val loss:0.42645952105522156, val acc:0.828125\n",
            "training loss:0.17204314470291138, val loss:0.4277927875518799, val acc:0.828125\n",
            "training loss:0.1711188703775406, val loss:0.4272298514842987, val acc:0.828125\n",
            "training loss:0.17058521509170532, val loss:0.43134090304374695, val acc:0.828125\n",
            "training loss:0.1696496456861496, val loss:0.4300095736980438, val acc:0.828125\n",
            "training loss:0.1686609387397766, val loss:0.43066319823265076, val acc:0.8359375\n",
            "training loss:0.16804593801498413, val loss:0.4317867159843445, val acc:0.8359375\n",
            "training loss:0.16764900088310242, val loss:0.4339008629322052, val acc:0.828125\n",
            "training loss:0.16628167033195496, val loss:0.4353789687156677, val acc:0.8359375\n",
            "training loss:0.16601040959358215, val loss:0.4358602464199066, val acc:0.8359375\n",
            "training loss:0.16552896797657013, val loss:0.440740168094635, val acc:0.828125\n",
            "training loss:0.1640106588602066, val loss:0.4372195899486542, val acc:0.8359375\n",
            "training loss:0.1637336015701294, val loss:0.44207820296287537, val acc:0.8359375\n",
            "training loss:0.16296668350696564, val loss:0.44189780950546265, val acc:0.8359375\n",
            "training loss:0.16233626008033752, val loss:0.4433358311653137, val acc:0.828125\n",
            "training loss:0.16157782077789307, val loss:0.4480772018432617, val acc:0.8359375\n",
            "training loss:0.1611679643392563, val loss:0.4456024467945099, val acc:0.828125\n",
            "training loss:0.159880593419075, val loss:0.45112356543540955, val acc:0.828125\n",
            "training loss:0.1591392457485199, val loss:0.45093095302581787, val acc:0.828125\n",
            "training loss:0.15894395112991333, val loss:0.4527110457420349, val acc:0.828125\n",
            "training loss:0.1583622843027115, val loss:0.45513734221458435, val acc:0.828125\n",
            "training loss:0.15788377821445465, val loss:0.45673221349716187, val acc:0.828125\n",
            "training loss:0.1566673070192337, val loss:0.45993903279304504, val acc:0.828125\n",
            "training loss:0.15622027218341827, val loss:0.4602705240249634, val acc:0.828125\n",
            "training loss:0.15592585504055023, val loss:0.462810218334198, val acc:0.828125\n",
            "training loss:0.15471802651882172, val loss:0.4600432515144348, val acc:0.828125\n",
            "training loss:0.154440775513649, val loss:0.4639372229576111, val acc:0.828125\n",
            "training loss:0.1537153720855713, val loss:0.464771032333374, val acc:0.828125\n",
            "training loss:0.15267722308635712, val loss:0.4659862816333771, val acc:0.828125\n",
            "training loss:0.15271379053592682, val loss:0.4681514799594879, val acc:0.8359375\n",
            "training loss:0.15203824639320374, val loss:0.4780476689338684, val acc:0.828125\n",
            "training loss:0.15110968053340912, val loss:0.47205236554145813, val acc:0.828125\n",
            "training loss:0.15056778490543365, val loss:0.4747582972049713, val acc:0.8359375\n",
            "training loss:0.14978231489658356, val loss:0.48276689648628235, val acc:0.8359375\n",
            "training loss:0.14965198934078217, val loss:0.482362300157547, val acc:0.8359375\n",
            "training loss:0.14805887639522552, val loss:0.47974643111228943, val acc:0.84375\n",
            "training loss:0.14806339144706726, val loss:0.48283669352531433, val acc:0.84375\n",
            "training loss:0.14776353538036346, val loss:0.48418620228767395, val acc:0.84375\n",
            "training loss:0.14780691266059875, val loss:0.4904521703720093, val acc:0.84375\n",
            "training loss:0.14652396738529205, val loss:0.48750367760658264, val acc:0.84375\n",
            "training loss:0.14576715230941772, val loss:0.49450892210006714, val acc:0.84375\n",
            "training loss:0.14563943445682526, val loss:0.4907401204109192, val acc:0.84375\n",
            "training loss:0.14551623165607452, val loss:0.49930334091186523, val acc:0.84375\n",
            "training loss:0.14487747848033905, val loss:0.5020233988761902, val acc:0.8359375\n",
            "training loss:0.14339002966880798, val loss:0.5009416341781616, val acc:0.84375\n",
            "training loss:0.14351601898670197, val loss:0.5052257180213928, val acc:0.84375\n",
            "training loss:0.14251397550106049, val loss:0.5008523464202881, val acc:0.84375\n",
            "training loss:0.142583429813385, val loss:0.5082786083221436, val acc:0.84375\n",
            "training loss:0.1422932893037796, val loss:0.508728563785553, val acc:0.84375\n",
            "training loss:0.14105285704135895, val loss:0.5114309787750244, val acc:0.84375\n",
            "training loss:0.14126165211200714, val loss:0.5141310095787048, val acc:0.84375\n",
            "training loss:0.1403702199459076, val loss:0.5125714540481567, val acc:0.84375\n",
            "training loss:0.13910220563411713, val loss:0.5199090838432312, val acc:0.84375\n",
            "training loss:0.13913094997406006, val loss:0.518661379814148, val acc:0.8359375\n",
            "training loss:0.13908033072948456, val loss:0.5219482779502869, val acc:0.84375\n",
            "training loss:0.13837964832782745, val loss:0.521418035030365, val acc:0.84375\n",
            "training loss:0.1372085064649582, val loss:0.5255293250083923, val acc:0.84375\n",
            "training loss:0.13708262145519257, val loss:0.5270681381225586, val acc:0.84375\n",
            "training loss:0.1369786411523819, val loss:0.5291100144386292, val acc:0.84375\n",
            "training loss:0.13540306687355042, val loss:0.527796745300293, val acc:0.8359375\n",
            "training loss:0.13515159487724304, val loss:0.5279108881950378, val acc:0.84375\n",
            "training loss:0.1342240869998932, val loss:0.5317277312278748, val acc:0.8515625\n",
            "training loss:0.13391083478927612, val loss:0.5325478911399841, val acc:0.84375\n",
            "training loss:0.13317011296749115, val loss:0.5364965200424194, val acc:0.84375\n",
            "training loss:0.1327902376651764, val loss:0.5398719310760498, val acc:0.84375\n",
            "training loss:0.13163326680660248, val loss:0.5386764407157898, val acc:0.84375\n",
            "training loss:0.1305883675813675, val loss:0.5445494055747986, val acc:0.84375\n",
            "training loss:0.1325540542602539, val loss:0.5410083532333374, val acc:0.84375\n",
            "training loss:0.13000835478305817, val loss:0.5457435250282288, val acc:0.8359375\n",
            "training loss:0.12957017123699188, val loss:0.5493013262748718, val acc:0.8359375\n",
            "training loss:0.12952488660812378, val loss:0.5485123991966248, val acc:0.8515625\n",
            "training loss:0.12824685871601105, val loss:0.5482548475265503, val acc:0.84375\n",
            "training loss:0.12754109501838684, val loss:0.5519496202468872, val acc:0.84375\n",
            "training loss:0.1280834823846817, val loss:0.5603438019752502, val acc:0.84375\n",
            "training loss:0.12646180391311646, val loss:0.5570803880691528, val acc:0.8515625\n",
            "training loss:0.12745162844657898, val loss:0.5616425275802612, val acc:0.8515625\n",
            "training loss:0.12594982981681824, val loss:0.5647132396697998, val acc:0.8515625\n",
            "training loss:0.12617367506027222, val loss:0.5654264688491821, val acc:0.8515625\n",
            "training loss:0.1245313510298729, val loss:0.5676708221435547, val acc:0.8515625\n",
            "training loss:0.12426642328500748, val loss:0.5673128962516785, val acc:0.8515625\n",
            "training loss:0.12432808429002762, val loss:0.5688807368278503, val acc:0.8515625\n",
            "training loss:0.12417472898960114, val loss:0.5740810632705688, val acc:0.8515625\n",
            "training loss:0.12300637364387512, val loss:0.5727643966674805, val acc:0.8515625\n",
            "training loss:0.12235786765813828, val loss:0.5785757899284363, val acc:0.8515625\n",
            "training loss:0.12122537940740585, val loss:0.5669150948524475, val acc:0.8515625\n",
            "training loss:0.12113180011510849, val loss:0.5723020434379578, val acc:0.8515625\n",
            "training loss:0.120977483689785, val loss:0.5808138251304626, val acc:0.8515625\n",
            "training loss:0.11968206614255905, val loss:0.5776801705360413, val acc:0.8515625\n",
            "training loss:0.12063252925872803, val loss:0.5761507749557495, val acc:0.8515625\n",
            "training loss:0.11748670041561127, val loss:0.5788657665252686, val acc:0.8515625\n",
            "training loss:0.11906910687685013, val loss:0.5836737155914307, val acc:0.8515625\n"
          ]
        }
      ]
    },
    {
      "cell_type": "code",
      "source": [
        "from sklearn.metrics import classification_report, accuracy_score\n",
        "y_pred = model(x_test_data)\n",
        "y_pred = np.where(y_pred >= 0.5, 1, 0)\n",
        "print(classification_report(y_test, y_pred))"
      ],
      "metadata": {
        "colab": {
          "base_uri": "https://localhost:8080/"
        },
        "id": "qHdy4U0IZ8qK",
        "outputId": "512d91cb-4624-41e7-9400-a1f8cecfd7c8"
      },
      "execution_count": 57,
      "outputs": [
        {
          "output_type": "stream",
          "name": "stdout",
          "text": [
            "              precision    recall  f1-score   support\n",
            "\n",
            "           0       0.93      0.92      0.93       273\n",
            "           1       0.57      0.60      0.58        47\n",
            "\n",
            "    accuracy                           0.88       320\n",
            "   macro avg       0.75      0.76      0.75       320\n",
            "weighted avg       0.88      0.88      0.88       320\n",
            "\n"
          ]
        }
      ]
    },
    {
      "cell_type": "code",
      "source": [
        "# 視覺化呈現結果\n",
        "plt.plot(training_losses)\n",
        "plt.plot(val_losses)\n",
        "plt.legend((\"Training loss\", \"val loss\"))\n",
        "plt.xlabel(\"epoch\")\n",
        "plt.ylabel(\"loss\")"
      ],
      "metadata": {
        "colab": {
          "base_uri": "https://localhost:8080/",
          "height": 467
        },
        "id": "fUf928GAvTKH",
        "outputId": "4b3f12cc-112c-4c60-cbbd-23b100410504"
      },
      "execution_count": 58,
      "outputs": [
        {
          "output_type": "execute_result",
          "data": {
            "text/plain": [
              "Text(0, 0.5, 'loss')"
            ]
          },
          "metadata": {},
          "execution_count": 58
        },
        {
          "output_type": "display_data",
          "data": {
            "text/plain": [
              "<Figure size 640x480 with 1 Axes>"
            ],
            "image/png": "[encoded data removed]"
          },
          "metadata": {}
        }
      ]
    }
  ]
}