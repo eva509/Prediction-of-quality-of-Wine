{
  "nbformat": 4,
  "nbformat_minor": 0,
  "metadata": {
    "colab": {
      "provenance": [],
      "authorship_tag": "ABX9TyMCmVfOS3QDM88CnuVrME4G",
      "include_colab_link": true
    },
    "kernelspec": {
      "name": "python3",
      "display_name": "Python 3"
    },
    "language_info": {
      "name": "python"
    }
  },
  "cells": [
    {
      "cell_type": "markdown",
      "metadata": {
        "id": "view-in-github",
        "colab_type": "text"
      },
      "source": [
        "<a href=\"https://colab.research.google.com/github/hui509/Prediction-of-quality-of-Wine/blob/main/%E5%B0%88%E9%A1%8C%E5%AF%A6%E4%BD%9C%EF%BD%9C%E7%B4%85%E9%85%92%E5%93%81%E8%B3%AA%E9%A0%90%E6%B8%AC.ipynb\" target=\"_parent\"><img src=\"https://colab.research.google.com/assets/colab-badge.svg\" alt=\"Open In Colab\"/></a>"
      ]
    },
    {
      "cell_type": "markdown",
      "source": [
        "# **專題實作｜紅酒品質預測**\n",
        "\n",
        "# 目標：利用現有資料集訓練一個有效的模型，協助判斷紅酒品質好壞。"
      ],
      "metadata": {
        "id": "a6gkY4-QvfYX"
      }
    },
    {
      "cell_type": "markdown",
      "source": [
        "# **載入 `Red Wine Quality` 資料集**\n",
        "\n"
      ],
      "metadata": {
        "id": "RbftgqbHd-Dl"
      }
    },
    {
      "cell_type": "code",
      "source": [
        "import pandas as pd\n",
        "df = pd.read_csv('https://raw.githubusercontent.com/aniruddhachoudhury/Red-Wine-Quality/master/winequality-red.csv')\n",
        "df"
      ],
      "metadata": {
        "id": "aO8IY290cmB5"
      },
      "execution_count": null,
      "outputs": []
    },
    {
      "cell_type": "markdown",
      "source": [
        "# **資料概況**"
      ],
      "metadata": {
        "id": "wFrpTLZrhB1m"
      }
    },
    {
      "cell_type": "markdown",
      "source": [
        "**1. Red Wine Quality 各欄位定義**\n",
        "\n",
        "* fixed acidity : 非揮發性酸\n",
        "* volatile acidity : 揮發性酸\n",
        "* citric acid : 檸檬酸\n",
        "* residual sugar : 殘留糖分\n",
        "* chlorides : 氯化物\n",
        "* free sulfur dioxide : 游離二氧化硫\n",
        "* total sulfur dioxide : 總二氧化硫\n",
        "* density : 密度\n",
        "* pH : pH值\n",
        "* sulphates : 硫酸鹽\n",
        "* alcohol : 酒精濃度\n",
        "* qulity : 品質 (分數介於0 - 10)\n"
      ],
      "metadata": {
        "id": "kIr3UAp9hLlL"
      }
    },
    {
      "cell_type": "markdown",
      "source": [
        "**2. 觀察每個「特徵」欄位（除 quality 外）資料的分佈情況**\n",
        "\n",
        "* 品質越好的紅酒，檸檬酸(citric acid)、硫酸鹽(sulphates)越高。\n",
        "* 品質越好的紅酒，揮發性酸度(volatile acidity)、氯化物(chlorides)越少。\n",
        "* 密度(density)對紅酒品質不具有區別性，皆大約為1。\n",
        "* pH值對紅酒品質區別性也很小，大約落在3左右。\n",
        "\n",
        "\n"
      ],
      "metadata": {
        "id": "tGjg35_FrlW2"
      }
    },
    {
      "cell_type": "code",
      "source": [
        "import seaborn as sns\n",
        "import matplotlib.pyplot as plt\n",
        "# 創建一個3x4的圖\n",
        "fig, axes = plt.subplots(3, 4, figsize=(12, 8))\n",
        "\n",
        "# 將axes攤平為一維矩陣，以利後續遍歷\n",
        "axes = axes.flatten()\n",
        "\n",
        "# 定義資料欄位的索引\n",
        "column_index = 0\n",
        "\n",
        "# 長條圖呈現各特徵的分布\n",
        "for i in df.columns:\n",
        "  if i != 'quality':\n",
        "    sns.barplot(data=df, x='quality', y=i, palette='coolwarm', ax=axes[column_index])\n",
        "    axes[column_index].set_title(i)\n",
        "    column_index += 1\n",
        "\n",
        "# 刪除最後一個空白圖表\n",
        "axes[-1].remove()\n",
        "\n",
        "# 調整子圖之間的間距\n",
        "plt.tight_layout()\n",
        "\n",
        "# 輸出圖表\n",
        "plt.show()"
      ],
      "metadata": {
        "id": "YG8vDBa-hKb7"
      },
      "execution_count": null,
      "outputs": []
    },
    {
      "cell_type": "markdown",
      "source": [
        "**3. 觀察每個「標籤」欄位（quality）資料的分佈情況**\n",
        "\n",
        "* 資料中的 quality 介於3-8分之間。\n",
        "* 獲得5、6分 quality 的紅酒占多數，共有1319筆，呈現不平衡情況\n"
      ],
      "metadata": {
        "id": "7m37BGIHnh-4"
      }
    },
    {
      "cell_type": "code",
      "source": [
        "# 計算不同quality的筆數\n",
        "df['quality'].value_counts()"
      ],
      "metadata": {
        "id": "GfaCSB7orXdB"
      },
      "execution_count": null,
      "outputs": []
    },
    {
      "cell_type": "code",
      "source": [
        "# 計數圖呈現quality的分布\n",
        "sns.countplot(data=df, x='quality', palette='coolwarm')"
      ],
      "metadata": {
        "id": "ETprufqEnkr2"
      },
      "execution_count": null,
      "outputs": []
    },
    {
      "cell_type": "markdown",
      "source": [
        "**4. 觀察各特徵之間的關係**\n",
        "\n",
        "* Pearson 相關分析中，小於0.3為低相關，介於0.3~0.7為中等相關，大於0.7為高度相關\n",
        "* 酒精濃度(alcohol)與紅酒品質有(0.48)的相關性，有較高的正相關。\n",
        "* 揮發性酸度(volatile acidity)與紅酒品質有(-0.39)的相關性，有較高的負相關。\n",
        "\n"
      ],
      "metadata": {
        "id": "1BMyOzgTboYv"
      }
    },
    {
      "cell_type": "code",
      "source": [
        "# 計算相關性\n",
        "cor = df.corr()\n",
        "\n",
        "# 使用seaborn和matplotlib，視覺化呈現\n",
        "import seaborn as sns\n",
        "import matplotlib.pyplot as plt\n",
        "\n",
        "plt.figure(figsize=(10,8))\n",
        "sns.heatmap(cor,annot=True,linewidth=0.5,cmap='coolwarm')\n",
        "plt.title('Correlation Matrix of Red Wine Quality')\n",
        "plt.show()"
      ],
      "metadata": {
        "id": "HIQlMZ13gXOf"
      },
      "execution_count": null,
      "outputs": []
    },
    {
      "cell_type": "markdown",
      "source": [
        "# **資料處理**"
      ],
      "metadata": {
        "id": "IpXtRmsVdTHO"
      }
    },
    {
      "cell_type": "markdown",
      "source": [
        "**1. 資料清理與型態轉換**\n",
        "\n",
        "* 資料中沒有缺失值，無須進行填補。\n",
        "* 資料中除quality欄位為int型態，其餘為float型態，皆可投入模型。\n",
        "\n"
      ],
      "metadata": {
        "id": "vvhkGazLwEFs"
      }
    },
    {
      "cell_type": "code",
      "source": [
        "# 確認是否有缺失值\n",
        "df.isnull().sum()"
      ],
      "metadata": {
        "id": "23wFLhQqd9lc"
      },
      "execution_count": null,
      "outputs": []
    },
    {
      "cell_type": "code",
      "source": [
        "# 確認資料型態是否符合模型需求\n",
        "df.info()"
      ],
      "metadata": {
        "id": "8VPP66TOewRN"
      },
      "execution_count": null,
      "outputs": []
    },
    {
      "cell_type": "markdown",
      "source": [
        "**2. 處理標籤欄位(quality)**\n",
        "\n",
        "* 原始quality介於3-8分，依據分數無法直接判斷「好或壞」，且存在資料不平衡。\n",
        "* 二元分類quality並進行型態轉換，區分為good(1)、bad(0)，結果依舊存在資料不平衡。"
      ],
      "metadata": {
        "id": "VdNaP1CRtf1Q"
      }
    },
    {
      "cell_type": "code",
      "source": [
        "# 以6.5分為基準，將quality分為good和bad\n",
        "bins = (0, 6.5, 10)\n",
        "group_names = ['bad', 'good']\n",
        "df['quality'] = pd.cut(df['quality'], bins = bins, labels = group_names)"
      ],
      "metadata": {
        "id": "wITHs6RKuQya"
      },
      "execution_count": 187,
      "outputs": []
    },
    {
      "cell_type": "code",
      "source": [
        "# 型態轉換：quality原為有序數值，故使用Labelencoder將good轉為1，bad轉為0\n",
        "from sklearn.preprocessing import LabelEncoder\n",
        "label_quality = LabelEncoder()\n",
        "df['quality'] = label_quality.fit_transform(df['quality'])"
      ],
      "metadata": {
        "id": "V9RaV2_3zZaq"
      },
      "execution_count": 188,
      "outputs": []
    },
    {
      "cell_type": "code",
      "source": [
        "# 計數圖呈現分類後的quality分布\n",
        "sns.countplot(data=df, x='quality', palette='coolwarm')"
      ],
      "metadata": {
        "id": "WCjwQE7wzxpi"
      },
      "execution_count": null,
      "outputs": []
    },
    {
      "cell_type": "markdown",
      "source": [
        "**3. 特徵工程**\n",
        "\n",
        "* 以 Standardize 正規化調整 quality 欄位資料差距大的情況\n"
      ],
      "metadata": {
        "id": "LnY4bBZBxpdV"
      }
    },
    {
      "cell_type": "code",
      "source": [
        "# 資料正規化 - Standardize\n",
        "from sklearn.preprocessing import StandardScaler\n",
        "\n",
        "scaler = StandardScaler()\n",
        "feature_columns = df.columns.difference([\"quality\"])\n",
        "df[feature_columns] = scaler.fit_transform(df[feature_columns])\n"
      ],
      "metadata": {
        "id": "5rnNAP9nJgJc"
      },
      "execution_count": 190,
      "outputs": []
    },
    {
      "cell_type": "markdown",
      "source": [
        "# **模型分析**"
      ],
      "metadata": {
        "id": "b0Pvj5s1cAXJ"
      }
    },
    {
      "cell_type": "markdown",
      "source": [
        "**1. 使用少數類過採樣技術(SMOTE)方法，處理資料不平衡問題**\n",
        "\n",
        "**2. 採用 scikit-learn 五種基本模型進行分析與比較**\n",
        "\n",
        "* 邏輯回歸 Logistic Regression\n",
        "* 支持向量機 Support Vector Machines\n",
        "* 決策樹 Decision Tree Classifier\n",
        "* 隨機森林 Random Forest Classifier\n",
        "* K-近鄰演算法 K Nearest Neighbor\n"
      ],
      "metadata": {
        "id": "s4aicB7Ggtdn"
      }
    },
    {
      "cell_type": "code",
      "source": [
        "# 載入模型\n",
        "from sklearn.model_selection import train_test_split\n",
        "from sklearn.ensemble import RandomForestClassifier\n",
        "from sklearn.linear_model import LogisticRegression\n",
        "from sklearn.svm import SVC\n",
        "from sklearn.tree import DecisionTreeClassifier\n",
        "from sklearn.neighbors import KNeighborsClassifier\n",
        "from sklearn.model_selection import cross_val_score"
      ],
      "metadata": {
        "id": "xAyAFNzyiW4c"
      },
      "execution_count": 191,
      "outputs": []
    },
    {
      "cell_type": "code",
      "source": [
        "# 拆分訓練集與測試集\n",
        "X = df.drop('quality', axis = 1)\n",
        "y = df['quality']\n",
        "X_train, X_test, y_train, y_test = train_test_split(X, y, test_size = 0.2, random_state = 42)\n",
        "\n",
        "# 使用SMOTE，處理資料不平衡問題\n",
        "from imblearn.over_sampling import SMOTE\n",
        "smote = SMOTE(random_state=42)\n",
        "X_train_resampled, y_train_resampled = smote.fit_resample(X_train, y_train)"
      ],
      "metadata": {
        "id": "0APc2CI8PJ-m"
      },
      "execution_count": 192,
      "outputs": []
    },
    {
      "cell_type": "code",
      "source": [
        "# Scikit-learn 五種基本模型分析\n",
        "models = {\n",
        "    'Logistic Regression':LogisticRegression(random_state=0,max_iter=3000),\n",
        "    'SVC':SVC(),\n",
        "    'Decision Tree Classifer':DecisionTreeClassifier(),\n",
        "    'Random Forest Classifer':RandomForestClassifier(),\n",
        "    'KNN':KNeighborsClassifier()\n",
        "      }\n",
        "scores = [ ]\n",
        "for model_name,model in models.items():\n",
        "  score = cross_val_score(model,X_train_resampled,y_train_resampled.values.ravel(),cv=5,scoring='accuracy').mean()\n",
        "  scores.append({'model':model_name, 'accuracy':score})"
      ],
      "metadata": {
        "id": "bhWsF7QOhlpr"
      },
      "execution_count": 193,
      "outputs": []
    },
    {
      "cell_type": "markdown",
      "source": [
        "# **模型優化**"
      ],
      "metadata": {
        "id": "jFJKGxKro3FF"
      }
    },
    {
      "cell_type": "markdown",
      "source": [
        "**1. 使用 GridSearchCV( ) 調整參數**\n",
        "\n",
        "\n"
      ],
      "metadata": {
        "id": "4IeGISE1o-aU"
      }
    },
    {
      "cell_type": "code",
      "source": [
        "# 超參數調整\n",
        "from sklearn.model_selection import GridSearchCV\n",
        "model_params = {\n",
        "  'Logistic Regression(Opt)':{\n",
        "      'model':LogisticRegression(),\n",
        "      'params':{'C': [0.01, 0.1, 1, 10],'solver': ['liblinear','lbfgs']}\n",
        "              },\n",
        "  'SVC(Opt)':{\n",
        "      'model':SVC(),\n",
        "      'params':{'C':[0.1,1,10],'kernel':['rbf'],'gamma':[0.05, 0.1]}\n",
        "      },\n",
        "  'Decision Tree Classifier(Opt)':{\n",
        "      'model':DecisionTreeClassifier(),\n",
        "      'params':{'criterion': ['gini', 'entropy'],'max_depth': [4, 6, 8],\n",
        "            'min_samples_split': [2, 5, 10],'min_samples_leaf': [1, 2, 4]}\n",
        "          },\n",
        "  'Random Forest Classifier(Opt)':{\n",
        "      'model':RandomForestClassifier(),\n",
        "      'params':{'n_estimators': [10, 50],'max_depth': [4, 6, 8],'min_samples_split': [2, 5, 10],\n",
        "           'min_samples_leaf': [1, 2, 4],'max_features': ['auto', 'sqrt']}\n",
        "          },\n",
        "  'KNN(Opt)':{\n",
        "      'model':KNeighborsClassifier(),\n",
        "      'params':{'n_neighbors': [3, 5, 7, 9],'weights': ['uniform', 'distance']}\n",
        "      }\n",
        "  }\n",
        "\n",
        "scores_opt = []\n",
        "for model_name, mp in model_params.items():\n",
        "  clf = GridSearchCV(mp['model'],mp['params'],cv=5)\n",
        "  score = cross_val_score(mp['model'],X_train_resampled,y_train_resampled.values.ravel(),cv=5,scoring='accuracy').mean()\n",
        "  scores_opt.append({'model':model_name,'accuracy':score})"
      ],
      "metadata": {
        "id": "TVbNqrmso_dH"
      },
      "execution_count": 194,
      "outputs": []
    },
    {
      "cell_type": "code",
      "source": [
        "# 比較超參數調整前後結果\n",
        "combined = scores + scores_opt\n",
        "df = pd.DataFrame(combined)\n",
        "df.sort_values(by='accuracy',ascending=False)"
      ],
      "metadata": {
        "colab": {
          "base_uri": "https://localhost:8080/",
          "height": 363
        },
        "id": "XZoY9uACqXte",
        "outputId": "91778157-09c7-4525-94b6-2b86f70cedbf"
      },
      "execution_count": 195,
      "outputs": [
        {
          "output_type": "execute_result",
          "data": {
            "text/plain": [
              "                           model  accuracy\n",
              "8  Random Forest Classifier(Opt)  0.939141\n",
              "3        Random Forest Classifer  0.937790\n",
              "7  Decision Tree Classifier(Opt)  0.887741\n",
              "2        Decision Tree Classifer  0.882781\n",
              "4                            KNN  0.873755\n",
              "9                       KNN(Opt)  0.873755\n",
              "1                            SVC  0.865644\n",
              "6                       SVC(Opt)  0.865644\n",
              "0            Logistic Regression  0.791261\n",
              "5       Logistic Regression(Opt)  0.791261"
            ],
            "text/html": [
              "\n",
              "  <div id=\"df-58d229c2-c03c-454f-b4b8-77fcac30b383\" class=\"colab-df-container\">\n",
              "    <div>\n",
              "<style scoped>\n",
              "    .dataframe tbody tr th:only-of-type {\n",
              "        vertical-align: middle;\n",
              "    }\n",
              "\n",
              "    .dataframe tbody tr th {\n",
              "        vertical-align: top;\n",
              "    }\n",
              "\n",
              "    .dataframe thead th {\n",
              "        text-align: right;\n",
              "    }\n",
              "</style>\n",
              "<table border=\"1\" class=\"dataframe\">\n",
              "  <thead>\n",
              "    <tr style=\"text-align: right;\">\n",
              "      <th></th>\n",
              "      <th>model</th>\n",
              "      <th>accuracy</th>\n",
              "    </tr>\n",
              "  </thead>\n",
              "  <tbody>\n",
              "    <tr>\n",
              "      <th>8</th>\n",
              "      <td>Random Forest Classifier(Opt)</td>\n",
              "      <td>0.939141</td>\n",
              "    </tr>\n",
              "    <tr>\n",
              "      <th>3</th>\n",
              "      <td>Random Forest Classifer</td>\n",
              "      <td>0.937790</td>\n",
              "    </tr>\n",
              "    <tr>\n",
              "      <th>7</th>\n",
              "      <td>Decision Tree Classifier(Opt)</td>\n",
              "      <td>0.887741</td>\n",
              "    </tr>\n",
              "    <tr>\n",
              "      <th>2</th>\n",
              "      <td>Decision Tree Classifer</td>\n",
              "      <td>0.882781</td>\n",
              "    </tr>\n",
              "    <tr>\n",
              "      <th>4</th>\n",
              "      <td>KNN</td>\n",
              "      <td>0.873755</td>\n",
              "    </tr>\n",
              "    <tr>\n",
              "      <th>9</th>\n",
              "      <td>KNN(Opt)</td>\n",
              "      <td>0.873755</td>\n",
              "    </tr>\n",
              "    <tr>\n",
              "      <th>1</th>\n",
              "      <td>SVC</td>\n",
              "      <td>0.865644</td>\n",
              "    </tr>\n",
              "    <tr>\n",
              "      <th>6</th>\n",
              "      <td>SVC(Opt)</td>\n",
              "      <td>0.865644</td>\n",
              "    </tr>\n",
              "    <tr>\n",
              "      <th>0</th>\n",
              "      <td>Logistic Regression</td>\n",
              "      <td>0.791261</td>\n",
              "    </tr>\n",
              "    <tr>\n",
              "      <th>5</th>\n",
              "      <td>Logistic Regression(Opt)</td>\n",
              "      <td>0.791261</td>\n",
              "    </tr>\n",
              "  </tbody>\n",
              "</table>\n",
              "</div>\n",
              "    <div class=\"colab-df-buttons\">\n",
              "\n",
              "  <div class=\"colab-df-container\">\n",
              "    <button class=\"colab-df-convert\" onclick=\"convertToInteractive('df-58d229c2-c03c-454f-b4b8-77fcac30b383')\"\n",
              "            title=\"Convert this dataframe to an interactive table.\"\n",
              "            style=\"display:none;\">\n",
              "\n",
              "  <svg xmlns=\"http://www.w3.org/2000/svg\" height=\"24px\" viewBox=\"0 -960 960 960\">\n",
              "    <path d=\"M120-120v-720h720v720H120Zm60-500h600v-160H180v160Zm220 220h160v-160H400v160Zm0 220h160v-160H400v160ZM180-400h160v-160H180v160Zm440 0h160v-160H620v160ZM180-180h160v-160H180v160Zm440 0h160v-160H620v160Z\"/>\n",
              "  </svg>\n",
              "    </button>\n",
              "\n",
              "  <style>\n",
              "    .colab-df-container {\n",
              "      display:flex;\n",
              "      gap: 12px;\n",
              "    }\n",
              "\n",
              "    .colab-df-convert {\n",
              "      background-color: #E8F0FE;\n",
              "      border: none;\n",
              "      border-radius: 50%;\n",
              "      cursor: pointer;\n",
              "      display: none;\n",
              "      fill: #1967D2;\n",
              "      height: 32px;\n",
              "      padding: 0 0 0 0;\n",
              "      width: 32px;\n",
              "    }\n",
              "\n",
              "    .colab-df-convert:hover {\n",
              "      background-color: #E2EBFA;\n",
              "      box-shadow: 0px 1px 2px rgba(60, 64, 67, 0.3), 0px 1px 3px 1px rgba(60, 64, 67, 0.15);\n",
              "      fill: #174EA6;\n",
              "    }\n",
              "\n",
              "    .colab-df-buttons div {\n",
              "      margin-bottom: 4px;\n",
              "    }\n",
              "\n",
              "    [theme=dark] .colab-df-convert {\n",
              "      background-color: #3B4455;\n",
              "      fill: #D2E3FC;\n",
              "    }\n",
              "\n",
              "    [theme=dark] .colab-df-convert:hover {\n",
              "      background-color: #434B5C;\n",
              "      box-shadow: 0px 1px 3px 1px rgba(0, 0, 0, 0.15);\n",
              "      filter: drop-shadow(0px 1px 2px rgba(0, 0, 0, 0.3));\n",
              "      fill: #FFFFFF;\n",
              "    }\n",
              "  </style>\n",
              "\n",
              "    <script>\n",
              "      const buttonEl =\n",
              "        document.querySelector('#df-58d229c2-c03c-454f-b4b8-77fcac30b383 button.colab-df-convert');\n",
              "      buttonEl.style.display =\n",
              "        google.colab.kernel.accessAllowed ? 'block' : 'none';\n",
              "\n",
              "      async function convertToInteractive(key) {\n",
              "        const element = document.querySelector('#df-58d229c2-c03c-454f-b4b8-77fcac30b383');\n",
              "        const dataTable =\n",
              "          await google.colab.kernel.invokeFunction('convertToInteractive',\n",
              "                                                    [key], {});\n",
              "        if (!dataTable) return;\n",
              "\n",
              "        const docLinkHtml = 'Like what you see? Visit the ' +\n",
              "          '<a target=\"_blank\" href=https://colab.research.google.com/notebooks/data_table.ipynb>data table notebook</a>'\n",
              "          + ' to learn more about interactive tables.';\n",
              "        element.innerHTML = '';\n",
              "        dataTable['output_type'] = 'display_data';\n",
              "        await google.colab.output.renderOutput(dataTable, element);\n",
              "        const docLink = document.createElement('div');\n",
              "        docLink.innerHTML = docLinkHtml;\n",
              "        element.appendChild(docLink);\n",
              "      }\n",
              "    </script>\n",
              "  </div>\n",
              "\n",
              "\n",
              "<div id=\"df-6939b496-d7de-47ce-bf3c-927513ba293f\">\n",
              "  <button class=\"colab-df-quickchart\" onclick=\"quickchart('df-6939b496-d7de-47ce-bf3c-927513ba293f')\"\n",
              "            title=\"Suggest charts.\"\n",
              "            style=\"display:none;\">\n",
              "\n",
              "<svg xmlns=\"http://www.w3.org/2000/svg\" height=\"24px\"viewBox=\"0 0 24 24\"\n",
              "     width=\"24px\">\n",
              "    <g>\n",
              "        <path d=\"M19 3H5c-1.1 0-2 .9-2 2v14c0 1.1.9 2 2 2h14c1.1 0 2-.9 2-2V5c0-1.1-.9-2-2-2zM9 17H7v-7h2v7zm4 0h-2V7h2v10zm4 0h-2v-4h2v4z\"/>\n",
              "    </g>\n",
              "</svg>\n",
              "  </button>\n",
              "\n",
              "<style>\n",
              "  .colab-df-quickchart {\n",
              "      --bg-color: #E8F0FE;\n",
              "      --fill-color: #1967D2;\n",
              "      --hover-bg-color: #E2EBFA;\n",
              "      --hover-fill-color: #174EA6;\n",
              "      --disabled-fill-color: #AAA;\n",
              "      --disabled-bg-color: #DDD;\n",
              "  }\n",
              "\n",
              "  [theme=dark] .colab-df-quickchart {\n",
              "      --bg-color: #3B4455;\n",
              "      --fill-color: #D2E3FC;\n",
              "      --hover-bg-color: #434B5C;\n",
              "      --hover-fill-color: #FFFFFF;\n",
              "      --disabled-bg-color: #3B4455;\n",
              "      --disabled-fill-color: #666;\n",
              "  }\n",
              "\n",
              "  .colab-df-quickchart {\n",
              "    background-color: var(--bg-color);\n",
              "    border: none;\n",
              "    border-radius: 50%;\n",
              "    cursor: pointer;\n",
              "    display: none;\n",
              "    fill: var(--fill-color);\n",
              "    height: 32px;\n",
              "    padding: 0;\n",
              "    width: 32px;\n",
              "  }\n",
              "\n",
              "  .colab-df-quickchart:hover {\n",
              "    background-color: var(--hover-bg-color);\n",
              "    box-shadow: 0 1px 2px rgba(60, 64, 67, 0.3), 0 1px 3px 1px rgba(60, 64, 67, 0.15);\n",
              "    fill: var(--button-hover-fill-color);\n",
              "  }\n",
              "\n",
              "  .colab-df-quickchart-complete:disabled,\n",
              "  .colab-df-quickchart-complete:disabled:hover {\n",
              "    background-color: var(--disabled-bg-color);\n",
              "    fill: var(--disabled-fill-color);\n",
              "    box-shadow: none;\n",
              "  }\n",
              "\n",
              "  .colab-df-spinner {\n",
              "    border: 2px solid var(--fill-color);\n",
              "    border-color: transparent;\n",
              "    border-bottom-color: var(--fill-color);\n",
              "    animation:\n",
              "      spin 1s steps(1) infinite;\n",
              "  }\n",
              "\n",
              "  @keyframes spin {\n",
              "    0% {\n",
              "      border-color: transparent;\n",
              "      border-bottom-color: var(--fill-color);\n",
              "      border-left-color: var(--fill-color);\n",
              "    }\n",
              "    20% {\n",
              "      border-color: transparent;\n",
              "      border-left-color: var(--fill-color);\n",
              "      border-top-color: var(--fill-color);\n",
              "    }\n",
              "    30% {\n",
              "      border-color: transparent;\n",
              "      border-left-color: var(--fill-color);\n",
              "      border-top-color: var(--fill-color);\n",
              "      border-right-color: var(--fill-color);\n",
              "    }\n",
              "    40% {\n",
              "      border-color: transparent;\n",
              "      border-right-color: var(--fill-color);\n",
              "      border-top-color: var(--fill-color);\n",
              "    }\n",
              "    60% {\n",
              "      border-color: transparent;\n",
              "      border-right-color: var(--fill-color);\n",
              "    }\n",
              "    80% {\n",
              "      border-color: transparent;\n",
              "      border-right-color: var(--fill-color);\n",
              "      border-bottom-color: var(--fill-color);\n",
              "    }\n",
              "    90% {\n",
              "      border-color: transparent;\n",
              "      border-bottom-color: var(--fill-color);\n",
              "    }\n",
              "  }\n",
              "</style>\n",
              "\n",
              "  <script>\n",
              "    async function quickchart(key) {\n",
              "      const quickchartButtonEl =\n",
              "        document.querySelector('#' + key + ' button');\n",
              "      quickchartButtonEl.disabled = true;  // To prevent multiple clicks.\n",
              "      quickchartButtonEl.classList.add('colab-df-spinner');\n",
              "      try {\n",
              "        const charts = await google.colab.kernel.invokeFunction(\n",
              "            'suggestCharts', [key], {});\n",
              "      } catch (error) {\n",
              "        console.error('Error during call to suggestCharts:', error);\n",
              "      }\n",
              "      quickchartButtonEl.classList.remove('colab-df-spinner');\n",
              "      quickchartButtonEl.classList.add('colab-df-quickchart-complete');\n",
              "    }\n",
              "    (() => {\n",
              "      let quickchartButtonEl =\n",
              "        document.querySelector('#df-6939b496-d7de-47ce-bf3c-927513ba293f button');\n",
              "      quickchartButtonEl.style.display =\n",
              "        google.colab.kernel.accessAllowed ? 'block' : 'none';\n",
              "    })();\n",
              "  </script>\n",
              "</div>\n",
              "    </div>\n",
              "  </div>\n"
            ]
          },
          "metadata": {},
          "execution_count": 195
        }
      ]
    },
    {
      "cell_type": "markdown",
      "source": [
        "**2. 使用PyTorch、TensorFlow模型進行分析**"
      ],
      "metadata": {
        "id": "uMlGAeout-Du"
      }
    },
    {
      "cell_type": "code",
      "source": [
        "# 切割訓練集、測驗集\n",
        "from sklearn.model_selection import train_test_split\n",
        "X_train,X_test,y_train,y_test = train_test_split(X_train,y_train,test_size=0.2)"
      ],
      "metadata": {
        "id": "h8zKJqQjuCgx"
      },
      "execution_count": 196,
      "outputs": []
    },
    {
      "cell_type": "code",
      "source": [
        "# TensorFlow\n",
        "import tensorflow as tf\n",
        "y_train_onehot = tf.keras.utils.to_categorical(y_train,num_classes=2)\n",
        "y_test_onehot = tf.keras.utils.to_categorical(y_test,num_classes=2)"
      ],
      "metadata": {
        "id": "A-MiM-MRuVtO"
      },
      "execution_count": 197,
      "outputs": []
    },
    {
      "cell_type": "code",
      "source": [
        "# PyTorch\n",
        "import torch\n",
        "import torch.nn.functional as F\n",
        "from sklearn.metrics import accuracy_score\n",
        "\n",
        "# 創建模型架構\n",
        "class Model(torch.nn.Module):\n",
        "    def __init__(self, input_size, hidden_size, output_size):\n",
        "        super(Model, self).__init__()\n",
        "        self.hidden1 = torch.nn.Linear(input_size, hidden_size)\n",
        "        self.hidden2 = torch.nn.Linear(hidden_size, hidden_size)\n",
        "        self.predict = torch.nn.Linear(hidden_size, output_size)\n",
        "\n",
        "    def forward(self, x):\n",
        "        output1 = self.hidden1(x)\n",
        "        output2 = self.hidden2(output1)\n",
        "        output = F.softmax(self.predict(output2))\n",
        "        return output\n",
        "\n",
        "# 模型、優化器初始化\n",
        "model = Model(X_test.shape[1], 32, 2)\n",
        "optimizer = torch.optim.SGD(model.parameters(), lr=0.01, momentum=0.0) # 模型參數優化器\n",
        "loss_func = torch.nn.CrossEntropyLoss()\n",
        "\n",
        "# 資料格式轉成torch專用格式\n",
        "x_data = torch.tensor(X_train.values, dtype=torch.float32) # [120, 4]\n",
        "y_data = torch.tensor(y_train_onehot, dtype=torch.float32) # [120, 3]\n",
        "x_test_data = torch.tensor(X_test.values, dtype=torch.float32) # [120, 4]\n",
        "y_test_data = torch.tensor(y_test_onehot, dtype=torch.float32) # [120, 3]\n",
        "\n",
        "batch_size = 16\n",
        "num_epochs = 100\n",
        "num_batches = len(X_train) // batch_size\n",
        "loss_list = []\n",
        "test_loss_list = []\n",
        "\n",
        "for epoch in range(num_epochs):\n",
        "    for i in range(num_batches):\n",
        "        start = i * batch_size\n",
        "        end = start + batch_size\n",
        "        prediction = model(x_data[start:end])\n",
        "        loss = loss_func(prediction, y_data[start:end])\n",
        "\n",
        "        optimizer.zero_grad()\n",
        "        loss.backward()\n",
        "        optimizer.step()\n",
        "\n",
        "    loss = loss_func(model(x_data), y_data)\n",
        "    loss_list.append(loss.item())\n",
        "\n",
        "    test_loss = loss_func(model(x_test_data), y_test_data)\n",
        "    test_loss_list.append(test_loss.item())\n",
        "\n",
        "print(loss_list)\n",
        "print(test_loss_list)"
      ],
      "metadata": {
        "colab": {
          "base_uri": "https://localhost:8080/"
        },
        "id": "i0XD4BBTvIoy",
        "outputId": "1f559a27-3a83-47ed-f226-611d95fd5062"
      },
      "execution_count": 198,
      "outputs": [
        {
          "output_type": "stream",
          "name": "stderr",
          "text": [
            "<ipython-input-198-033d57411844>:17: UserWarning: Implicit dimension choice for softmax has been deprecated. Change the call to include dim=X as an argument.\n",
            "  output = F.softmax(self.predict(output2))\n"
          ]
        },
        {
          "output_type": "stream",
          "name": "stdout",
          "text": [
            "[0.5983354449272156, 0.5522444248199463, 0.5218145847320557, 0.5011332035064697, 0.4866246283054352, 0.47612565755844116, 0.4682973623275757, 0.46228957176208496, 0.45754945278167725, 0.4537097215652466, 0.4505220055580139, 0.4478159546852112, 0.44547390937805176, 0.4434146583080292, 0.44158247113227844, 0.43993914127349854, 0.4384583532810211, 0.43712127208709717, 0.4359131455421448, 0.43482133746147156, 0.4338344633579254, 0.43294164538383484, 0.4321325123310089, 0.43139758706092834, 0.4307282269001007, 0.4301166236400604, 0.4295560419559479, 0.42904043197631836, 0.42856472730636597, 0.42812442779541016, 0.4277157187461853, 0.427335262298584, 0.4269801378250122, 0.42664796113967896, 0.4263363778591156, 0.42604365944862366, 0.4257678687572479, 0.42550766468048096, 0.4252617061138153, 0.4250287711620331, 0.4248078465461731, 0.42459797859191895, 0.42439839243888855, 0.4242081046104431, 0.4240267276763916, 0.42385348677635193, 0.42368775606155396, 0.4235292077064514, 0.4233771562576294, 0.4232313930988312, 0.4230913519859314, 0.42295679450035095, 0.4228273332118988, 0.4227026700973511, 0.42258256673812866, 0.4224666953086853, 0.42235487699508667, 0.42224690318107605, 0.42214247584342957, 0.42204156517982483, 0.4219438433647156, 0.42184925079345703, 0.4217575192451477, 0.4216686487197876, 0.42158234119415283, 0.42149868607521057, 0.42141735553741455, 0.4213383197784424, 0.4212614893913269, 0.42118674516677856, 0.4211140275001526, 0.4210433065891266, 0.4209743142127991, 0.4209071695804596, 0.4208417236804962, 0.4207778573036194, 0.4207155704498291, 0.420654833316803, 0.4205954968929291, 0.4205375611782074, 0.42048096656799316, 0.420425683259964, 0.4203716516494751, 0.4203188121318817, 0.42026710510253906, 0.4202166199684143, 0.4201671779155731, 0.4201187193393707, 0.42007139325141907, 0.4200249910354614, 0.41997960209846497, 0.41993507742881775, 0.41989144682884216, 0.419848769903183, 0.4198068678379059, 0.41976580023765564, 0.41972556710243225, 0.41968604922294617, 0.41964730620384216, 0.4196093678474426]\n",
            "[0.6078781485557556, 0.5641446709632874, 0.5352058410644531, 0.5154604315757751, 0.5015289187431335, 0.4913613796234131, 0.4836854338645935, 0.47769224643707275, 0.4728561341762543, 0.4688296914100647, 0.4653806984424591, 0.46235400438308716, 0.4596472978591919, 0.4571956992149353, 0.4549599289894104, 0.45291805267333984, 0.4510582387447357, 0.4493732452392578, 0.4478563070297241, 0.4464990496635437, 0.44529077410697937, 0.44421887397766113, 0.44326964020729065, 0.4424290657043457, 0.441683828830719, 0.4410216808319092, 0.44043150544166565, 0.43990373611450195, 0.4394301474094391, 0.4390034079551697, 0.4386174976825714, 0.4382673501968384, 0.43794846534729004, 0.4376571476459503, 0.43739017844200134, 0.43714481592178345, 0.4369186758995056, 0.43670976161956787, 0.43651634454727173, 0.43633684515953064, 0.4361698627471924, 0.4360142946243286, 0.4358690679073334, 0.4357333481311798, 0.4356062114238739, 0.4354870319366455, 0.4353750944137573, 0.435269832611084, 0.43517085909843445, 0.4350775480270386, 0.43498966097831726, 0.4349066913127899, 0.43482837080955505, 0.4347544014453888, 0.4346845746040344, 0.4346185028553009, 0.43455615639686584, 0.4344971776008606, 0.4344414472579956, 0.43438878655433655, 0.4343390166759491, 0.43429213762283325, 0.4342478811740875, 0.43420618772506714, 0.43416693806648254, 0.4341300129890442, 0.4340953230857849, 0.43406280875205994, 0.4340323805809021, 0.43400394916534424, 0.4339773952960968, 0.43395277857780457, 0.4339298605918884, 0.43390870094299316, 0.4338892698287964, 0.4338713586330414, 0.43385499715805054, 0.4338400959968567, 0.4338266849517822, 0.4338146150112152, 0.43380388617515564, 0.43379443883895874, 0.43378621339797974, 0.43377912044525146, 0.4337731897830963, 0.4337683320045471, 0.4337645173072815, 0.43376168608665466, 0.43375977873802185, 0.43375879526138306, 0.4337586760520935, 0.4337593913078308, 0.4337608516216278, 0.4337631165981293, 0.43376603722572327, 0.4337696433067322, 0.43377387523651123, 0.4337787330150604, 0.4337840676307678, 0.43379008769989014]\n"
          ]
        }
      ]
    },
    {
      "cell_type": "code",
      "source": [
        "# 視覺化呈現結果\n",
        "import matplotlib.pyplot as plt\n",
        "plt.plot(loss_list, linewidth=3)\n",
        "plt.plot(test_loss_list, linewidth=3)\n",
        "plt.legend(('Training Loss','Validation Loss'))\n",
        "plt.xlabel('Epoch')\n",
        "plt.ylabel('BCE Loss')"
      ],
      "metadata": {
        "colab": {
          "base_uri": "https://localhost:8080/",
          "height": 466
        },
        "id": "fUf928GAvTKH",
        "outputId": "12b4ffce-ad69-49c7-c3d8-5d1645a6b26b"
      },
      "execution_count": 199,
      "outputs": [
        {
          "output_type": "execute_result",
          "data": {
            "text/plain": [
              "Text(0, 0.5, 'BCE Loss')"
            ]
          },
          "metadata": {},
          "execution_count": 199
        },
        {
          "output_type": "display_data",
          "data": {
            "text/plain": [
              "<Figure size 640x480 with 1 Axes>"
            ],
            "image/png": "[encoded data removed]"
          },
          "metadata": {}
        }
      ]
    }
  ]
}