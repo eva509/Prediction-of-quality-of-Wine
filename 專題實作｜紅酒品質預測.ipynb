{
  "nbformat": 4,
  "nbformat_minor": 0,
  "metadata": {
    "colab": {
      "provenance": [],
      "authorship_tag": "ABX9TyM2EQdSkwLGYi2Yk2R4Sw6z",
      "include_colab_link": true
    },
    "kernelspec": {
      "name": "python3",
      "display_name": "Python 3"
    },
    "language_info": {
      "name": "python"
    }
  },
  "cells": [
    {
      "cell_type": "markdown",
      "metadata": {
        "id": "view-in-github",
        "colab_type": "text"
      },
      "source": [
        "<a href=\"https://colab.research.google.com/github/hui509/Prediction-of-quality-of-Wine/blob/main/%E5%B0%88%E9%A1%8C%E5%AF%A6%E4%BD%9C%EF%BD%9C%E7%B4%85%E9%85%92%E5%93%81%E8%B3%AA%E9%A0%90%E6%B8%AC.ipynb\" target=\"_parent\"><img src=\"https://colab.research.google.com/assets/colab-badge.svg\" alt=\"Open In Colab\"/></a>"
      ]
    },
    {
      "cell_type": "markdown",
      "source": [
        "# **載入 `Red Wine Quality` 資料集**\n",
        "\n"
      ],
      "metadata": {
        "id": "RbftgqbHd-Dl"
      }
    },
    {
      "cell_type": "code",
      "source": [
        "import pandas as pd\n",
        "df = pd.read_csv('https://raw.githubusercontent.com/aniruddhachoudhury/Red-Wine-Quality/master/winequality-red.csv')\n",
        "df"
      ],
      "metadata": {
        "id": "aO8IY290cmB5"
      },
      "execution_count": null,
      "outputs": []
    },
    {
      "cell_type": "markdown",
      "source": [
        "# **資料概況**"
      ],
      "metadata": {
        "id": "wFrpTLZrhB1m"
      }
    },
    {
      "cell_type": "markdown",
      "source": [
        "**1. Red Wine Quality 各欄位定義**\n",
        "\n",
        "* fixed acidity : 非揮發性酸\n",
        "* volatile acidity : 揮發性酸\n",
        "* citric acid : 檸檬酸\n",
        "* residual sugar : 殘留糖分\n",
        "* chlorides : 氯化物\n",
        "* free sulfur dioxide : 游離二氧化硫\n",
        "* total sulfur dioxide : 總二氧化硫\n",
        "* density : 密度\n",
        "* pH : pH值\n",
        "* sulphates : 硫酸鹽\n",
        "* alcohol : 酒精濃度\n",
        "* qulity : 品質 (分數介於0 - 10)\n"
      ],
      "metadata": {
        "id": "kIr3UAp9hLlL"
      }
    },
    {
      "cell_type": "markdown",
      "source": [
        "**2. 觀察每個「特徵」欄位（除 quality 外）資料的分佈情況**\n",
        "\n",
        "* 品質越好的紅酒，檸檬酸(citric acid)、硫酸鹽(sulphates)越高。\n",
        "* 品質越好的紅酒，揮發性酸度(volatile acidity)、氯化物(chlorides)越少。\n",
        "* 密度(density)對紅酒品質不具有區別性，皆大約為1。\n",
        "* pH值對紅酒品質區別性也很小，大約落在3左右。\n",
        "\n",
        "\n"
      ],
      "metadata": {
        "id": "tGjg35_FrlW2"
      }
    },
    {
      "cell_type": "code",
      "source": [
        "import seaborn as sns\n",
        "import matplotlib.pyplot as plt\n",
        "# 創建一個3x4的圖\n",
        "fig, axes = plt.subplots(3, 4, figsize=(12, 8))\n",
        "\n",
        "# 將axes攤平為一維矩陣，以利後續遍歷\n",
        "axes = axes.flatten()\n",
        "\n",
        "# 定義資料欄位的索引\n",
        "column_index = 0\n",
        "\n",
        "# 長條圖呈現各特徵的分布\n",
        "for i in df.columns:\n",
        "  if i != 'quality':\n",
        "    sns.barplot(data=df, x='quality', y=i, palette='coolwarm', ax=axes[column_index])\n",
        "    axes[column_index].set_title(i)\n",
        "    column_index += 1\n",
        "\n",
        "# 刪除最後一個空白圖表\n",
        "axes[-1].remove()\n",
        "\n",
        "# 調整子圖之間的間距\n",
        "plt.tight_layout()\n",
        "\n",
        "# 輸出圖表\n",
        "plt.show()"
      ],
      "metadata": {
        "id": "YG8vDBa-hKb7"
      },
      "execution_count": null,
      "outputs": []
    },
    {
      "cell_type": "markdown",
      "source": [
        "**3. 觀察每個「標籤」欄位（quality）資料的分佈情況**\n",
        "\n",
        "* 資料中的 quality 介於3-8分之間。\n",
        "* 獲得5、6分 quality 的紅酒占多數，共有1319筆。\n"
      ],
      "metadata": {
        "id": "7m37BGIHnh-4"
      }
    },
    {
      "cell_type": "code",
      "source": [
        "# 計算不同quality的筆數\n",
        "df['quality'].value_counts()"
      ],
      "metadata": {
        "id": "GfaCSB7orXdB"
      },
      "execution_count": null,
      "outputs": []
    },
    {
      "cell_type": "code",
      "source": [
        "# 計數圖呈現quality的分布\n",
        "sns.countplot(data=df, x='quality', palette='coolwarm')"
      ],
      "metadata": {
        "id": "ETprufqEnkr2"
      },
      "execution_count": null,
      "outputs": []
    },
    {
      "cell_type": "markdown",
      "source": [
        "**4. 觀察各特徵之間的關係**\n",
        "\n",
        "* 紅酒品質與酒精濃度(alcohol)有較高的正相關，其次為硫酸鹽(sulphates)和檸檬酸(citric acid)。\n",
        "* 紅酒品質與揮發性酸度(volatile acidity)有較高的負相關。\n",
        "\n"
      ],
      "metadata": {
        "id": "1BMyOzgTboYv"
      }
    },
    {
      "cell_type": "code",
      "source": [
        "# 計算相關性\n",
        "cor = df.corr()\n",
        "\n",
        "# 使用seaborn和matplotlib，視覺化呈現\n",
        "import seaborn as sns\n",
        "import matplotlib.pyplot as plt\n",
        "\n",
        "plt.figure(figsize=(10,8))\n",
        "sns.heatmap(cor,annot=True,linewidth=0.5,cmap='coolwarm')\n",
        "plt.title('Correlation Matrix of Red Wine Quality')\n",
        "plt.show()"
      ],
      "metadata": {
        "id": "HIQlMZ13gXOf"
      },
      "execution_count": null,
      "outputs": []
    },
    {
      "cell_type": "markdown",
      "source": [
        "# **資料清理與型態轉換**"
      ],
      "metadata": {
        "id": "IpXtRmsVdTHO"
      }
    },
    {
      "cell_type": "code",
      "source": [
        "# 確認是否有缺失值\n",
        "df.isnull().sum()"
      ],
      "metadata": {
        "colab": {
          "base_uri": "https://localhost:8080/"
        },
        "id": "23wFLhQqd9lc",
        "outputId": "a6664e62-41d9-4924-a0dd-689b5d59eb71"
      },
      "execution_count": 75,
      "outputs": [
        {
          "output_type": "execute_result",
          "data": {
            "text/plain": [
              "fixed acidity           0\n",
              "volatile acidity        0\n",
              "citric acid             0\n",
              "residual sugar          0\n",
              "chlorides               0\n",
              "free sulfur dioxide     0\n",
              "total sulfur dioxide    0\n",
              "density                 0\n",
              "pH                      0\n",
              "sulphates               0\n",
              "alcohol                 0\n",
              "quality                 0\n",
              "dtype: int64"
            ]
          },
          "metadata": {},
          "execution_count": 75
        }
      ]
    },
    {
      "cell_type": "code",
      "source": [
        "# 確認資料型態是否符合模型需求\n",
        "df.info()"
      ],
      "metadata": {
        "colab": {
          "base_uri": "https://localhost:8080/"
        },
        "id": "8VPP66TOewRN",
        "outputId": "c6f96b3c-5dc9-4829-802c-08061899962b"
      },
      "execution_count": 76,
      "outputs": [
        {
          "output_type": "stream",
          "name": "stdout",
          "text": [
            "<class 'pandas.core.frame.DataFrame'>\n",
            "RangeIndex: 1599 entries, 0 to 1598\n",
            "Data columns (total 12 columns):\n",
            " #   Column                Non-Null Count  Dtype  \n",
            "---  ------                --------------  -----  \n",
            " 0   fixed acidity         1599 non-null   float64\n",
            " 1   volatile acidity      1599 non-null   float64\n",
            " 2   citric acid           1599 non-null   float64\n",
            " 3   residual sugar        1599 non-null   float64\n",
            " 4   chlorides             1599 non-null   float64\n",
            " 5   free sulfur dioxide   1599 non-null   float64\n",
            " 6   total sulfur dioxide  1599 non-null   float64\n",
            " 7   density               1599 non-null   float64\n",
            " 8   pH                    1599 non-null   float64\n",
            " 9   sulphates             1599 non-null   float64\n",
            " 10  alcohol               1599 non-null   float64\n",
            " 11  quality               1599 non-null   int64  \n",
            "dtypes: float64(11), int64(1)\n",
            "memory usage: 150.0 KB\n"
          ]
        }
      ]
    },
    {
      "cell_type": "markdown",
      "source": [
        "# **模型分析**"
      ],
      "metadata": {
        "id": "h9PRHprRmleV"
      }
    },
    {
      "cell_type": "code",
      "source": [
        "from sklearn.model_selection import train_test_split\n",
        "from sklearn.ensemble import RandomForestClassifier\n",
        "\n",
        "# 拆分訓練集與測試集\n",
        "X = df.drop('quality', axis = 1)\n",
        "y = df['quality']\n",
        "X_train, X_test, y_train, y_test = train_test_split(X, y, test_size = 0.2, random_state = 42)\n",
        "\n",
        "# 使用隨機樹分類模型\n",
        "rfc = RandomForestClassifier(n_estimators=200)\n",
        "rfc.fit(X_train, y_train)\n",
        "pred_rfc = rfc.predict(X_test)"
      ],
      "metadata": {
        "id": "Dq8ZuIrXqjTo"
      },
      "execution_count": 77,
      "outputs": []
    },
    {
      "cell_type": "markdown",
      "source": [
        "# **模型評估**"
      ],
      "metadata": {
        "id": "ubBMDIfAn8-g"
      }
    },
    {
      "cell_type": "code",
      "source": [
        "# 指標判斷模型表現\n",
        "from sklearn.metrics import classification_report\n",
        "print(classification_report(y_test, pred_rfc))"
      ],
      "metadata": {
        "colab": {
          "base_uri": "https://localhost:8080/"
        },
        "id": "sYp4S_IbuORx",
        "outputId": "74559346-4106-4589-baa6-1b9db36097cc"
      },
      "execution_count": 81,
      "outputs": [
        {
          "output_type": "stream",
          "name": "stdout",
          "text": [
            "              precision    recall  f1-score   support\n",
            "\n",
            "           3       0.00      0.00      0.00         1\n",
            "           4       0.00      0.00      0.00        10\n",
            "           5       0.72      0.78      0.75       130\n",
            "           6       0.64      0.71      0.67       132\n",
            "           7       0.62      0.48      0.54        42\n",
            "           8       0.00      0.00      0.00         5\n",
            "\n",
            "    accuracy                           0.67       320\n",
            "   macro avg       0.33      0.33      0.33       320\n",
            "weighted avg       0.64      0.67      0.65       320\n",
            "\n"
          ]
        },
        {
          "output_type": "stream",
          "name": "stderr",
          "text": [
            "/usr/local/lib/python3.10/dist-packages/sklearn/metrics/_classification.py:1344: UndefinedMetricWarning: Precision and F-score are ill-defined and being set to 0.0 in labels with no predicted samples. Use `zero_division` parameter to control this behavior.\n",
            "  _warn_prf(average, modifier, msg_start, len(result))\n",
            "/usr/local/lib/python3.10/dist-packages/sklearn/metrics/_classification.py:1344: UndefinedMetricWarning: Precision and F-score are ill-defined and being set to 0.0 in labels with no predicted samples. Use `zero_division` parameter to control this behavior.\n",
            "  _warn_prf(average, modifier, msg_start, len(result))\n",
            "/usr/local/lib/python3.10/dist-packages/sklearn/metrics/_classification.py:1344: UndefinedMetricWarning: Precision and F-score are ill-defined and being set to 0.0 in labels with no predicted samples. Use `zero_division` parameter to control this behavior.\n",
            "  _warn_prf(average, modifier, msg_start, len(result))\n"
          ]
        }
      ]
    },
    {
      "cell_type": "code",
      "source": [
        "# 交叉驗證\n",
        "from sklearn.model_selection import cross_val_score\n",
        "rfc_eval = cross_val_score(estimator = rfc, X = X_train, y = y_train, cv = 5)\n",
        "print(rfc_eval)"
      ],
      "metadata": {
        "colab": {
          "base_uri": "https://localhost:8080/"
        },
        "id": "RP1ilVsGuOXa",
        "outputId": "fcdb8154-e7ce-4096-dc03-b9a79fe673e2"
      },
      "execution_count": 82,
      "outputs": [
        {
          "output_type": "stream",
          "name": "stdout",
          "text": [
            "[0.65234375 0.69140625 0.6640625  0.69921875 0.75686275]\n"
          ]
        }
      ]
    }
  ]
}